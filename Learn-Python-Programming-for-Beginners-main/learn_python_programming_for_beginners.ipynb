{
 "cells": [
  {
   "cell_type": "markdown",
   "id": "680fbf78",
   "metadata": {},
   "source": [
    "# Learn Python Programming for Beginners"
   ]
  },
  {
   "cell_type": "markdown",
   "id": "76c51d97",
   "metadata": {},
   "source": [
    "The code in this notebook is used in the following Python course: https://youtu.be/M7bnYJyCx0Q .\n",
    "\n",
    "LinkedIn: www.linkedin.com/in/antonioprgomet ."
   ]
  },
  {
   "cell_type": "markdown",
   "id": "ed3e7f64",
   "metadata": {},
   "source": [
    "# Chapter: Introduction to Jupyter Notebooks"
   ]
  },
  {
   "cell_type": "markdown",
   "id": "113087fd",
   "metadata": {},
   "source": [
    "**Help > User Interface Tour** to get an overview of Jupyter Notebooks. \n",
    "\n",
    "**Help > Keyboard Shortcuts** to see keyboard shortcuts. "
   ]
  },
  {
   "cell_type": "markdown",
   "id": "716a433a",
   "metadata": {},
   "source": [
    "## Edit Mode And Command Mode \n",
    "We have two modes:\n",
    "* In **Edit mode:** we can type in a cell. We enter into edit mode by clicking on the cell or pressing Enter. We know we are in edit mode when there is a green border around the cell with a green left margin or a pen at the top right.\n",
    " \n",
    "* In **Command mode:** we are able to edit the notebook as a whole but not type into individual cells. We enter command mode by pressing Esc or anywhere outside the cell. We know we are in command mode when there is a grey border with a blue left margin or no pen at the top right.  \n",
    "\n",
    "<br>\n",
    "Once in command mode: \n",
    "\n",
    "* We can insert a new cell by pressing B. Alternatively, Insert > Insert Cell Below. \n",
    "* We can delete a cell by pressing D-D (fast) in our keyboard. Alternatively, Edit > Delete Cells. \n",
    "\n",
    "Once in edit mode:\n",
    "* We can choose to write text, headers or math symbols by changing the cell to Markdown. Press M on the keyboard (in command mode) or select the option in the Notebook Toolbar. \n",
    "* We can choose to write code, by changing the cell to code. Press y on the keyboard (in command mode) or select the option in the Notebook Toolbar.  "
   ]
  },
  {
   "cell_type": "markdown",
   "id": "b35a093f",
   "metadata": {},
   "source": [
    "# Level 1 heading \n",
    "We can format text in different ways. \n",
    "\n",
    "Ordinary text. **Bold text.** *Italic text.* ~~Strikethrough text.~~\n",
    "\n",
    "## Level 2 heading\n",
    "We can write math symbols through LaTeX code (If you do not know about it, ignore it). \n",
    "\n",
    "$4x + 2 = 10$ has the solution $x = 2$. \n",
    "\n",
    "$f(x) = x^2$ is a quadratic function. \n",
    "\n",
    "$\\frac{10}{2} = 5$\n",
    "\n",
    "### Level 3 heading\n",
    "* Item 1. \n",
    "* Item 2. \n",
    "* Item 3."
   ]
  },
  {
   "cell_type": "markdown",
   "id": "614d5bf7",
   "metadata": {},
   "source": [
    "## Running a cell\n",
    "* Ctrl + Enter to run a cell. \n",
    "* Shift + Enter to run a cell and continue to the next one. \n",
    "* Alt + Enter to run a cell and insert one below. "
   ]
  },
  {
   "cell_type": "code",
   "execution_count": 1,
   "id": "3a902432",
   "metadata": {},
   "outputs": [
    {
     "name": "stdout",
     "output_type": "stream",
     "text": [
      "2\n"
     ]
    }
   ],
   "source": [
    "print(1 + 1)"
   ]
  },
  {
   "cell_type": "code",
   "execution_count": 2,
   "id": "357bf087",
   "metadata": {},
   "outputs": [
    {
     "name": "stdout",
     "output_type": "stream",
     "text": [
      "Python Is Awesome!\n"
     ]
    }
   ],
   "source": [
    "print('Python Is Awesome!')"
   ]
  },
  {
   "cell_type": "markdown",
   "id": "b0f5591a",
   "metadata": {},
   "source": [
    "When code is running, we see an asterisk. When the code is done, we see a number which keeps track of of the order we ran our cells.\n",
    "\n",
    "If we want to interrupt a computation in progress then press the button **interrupt the kernel**. We can also  \"restart\" everything by going to **Kernel > Restart & Clear Output** or **Kernel > Restart & Run All**. When restarting the kernel, everything will be removed from memory in our Python session. "
   ]
  },
  {
   "cell_type": "code",
   "execution_count": 3,
   "id": "f8fb8da7",
   "metadata": {},
   "outputs": [],
   "source": [
    "# Example showing the asterisk when code is running. \n",
    "# while True: \n",
    "#     pass"
   ]
  },
  {
   "cell_type": "markdown",
   "id": "49407f88",
   "metadata": {},
   "source": [
    "# Chapter: Hello, World! "
   ]
  },
  {
   "cell_type": "code",
   "execution_count": 4,
   "id": "7187b280",
   "metadata": {},
   "outputs": [
    {
     "name": "stdout",
     "output_type": "stream",
     "text": [
      "Hello, World!\n"
     ]
    }
   ],
   "source": [
    "print(\"Hello, World!\")"
   ]
  },
  {
   "cell_type": "markdown",
   "id": "a78cf357",
   "metadata": {},
   "source": [
    "# Chapter: A Quick Tour of Python\n",
    "Here we go through some fundamental concepts in Python without explaining details which are left for later. The goal is to whet your apetite and give some short examples on what we are going to learn in the upcoming videos. "
   ]
  },
  {
   "cell_type": "markdown",
   "id": "f7eb7bb8",
   "metadata": {},
   "source": [
    "## Basic Calculations and Comparisons"
   ]
  },
  {
   "cell_type": "code",
   "execution_count": 5,
   "id": "9a90c2ed",
   "metadata": {},
   "outputs": [
    {
     "name": "stdout",
     "output_type": "stream",
     "text": [
      "2\n",
      "2\n",
      "4.5\n",
      "6\n",
      "9\n",
      "\n",
      "True\n",
      "False\n"
     ]
    }
   ],
   "source": [
    "# Basic calculations. \n",
    "print(1+1)\n",
    "print(4-2)\n",
    "print(9/2)\n",
    "print(3*2)\n",
    "print(3**2)  # Exponentiating, taking 3^2.\n",
    "\n",
    "print()\n",
    "\n",
    "# Comparisons returning a Boolean (True / False). \n",
    "print(3 < 4)\n",
    "print(3==4)  # Check if 3 is equal to 4."
   ]
  },
  {
   "cell_type": "markdown",
   "id": "efade883",
   "metadata": {},
   "source": [
    "## Variables and Containers"
   ]
  },
  {
   "cell_type": "code",
   "execution_count": 6,
   "id": "77e467a0",
   "metadata": {},
   "outputs": [
    {
     "name": "stdout",
     "output_type": "stream",
     "text": [
      "-7\n"
     ]
    }
   ],
   "source": [
    "x = 4\n",
    "y = 3 \n",
    "\n",
    "z = -(x + y)\n",
    "print(z)"
   ]
  },
  {
   "cell_type": "code",
   "execution_count": 7,
   "id": "9b15bbb1",
   "metadata": {},
   "outputs": [
    {
     "name": "stdout",
     "output_type": "stream",
     "text": [
      "a\n",
      "['a', 'c', 'd', 'z']\n"
     ]
    }
   ],
   "source": [
    "my_first_list = ['a', 'c', 'd', 'z', 'g', 'h']\n",
    "\n",
    "# Python indexing starts from zero. \n",
    "print(my_first_list[0])\n",
    "\n",
    "# We get the left endpoint but the right is not included.\n",
    "print(my_first_list[0:4])"
   ]
  },
  {
   "cell_type": "markdown",
   "id": "de2228e2",
   "metadata": {},
   "source": [
    "## Iterating with a For Loop"
   ]
  },
  {
   "cell_type": "code",
   "execution_count": 8,
   "id": "ee75c31b",
   "metadata": {},
   "outputs": [
    {
     "name": "stdout",
     "output_type": "stream",
     "text": [
      "a\n",
      "c\n",
      "d\n",
      "z\n",
      "g\n",
      "h\n"
     ]
    }
   ],
   "source": [
    "for letter in my_first_list: \n",
    "    print(letter)"
   ]
  },
  {
   "cell_type": "markdown",
   "id": "fcae65ed",
   "metadata": {},
   "source": [
    "## Defining a function"
   ]
  },
  {
   "cell_type": "code",
   "execution_count": 9,
   "id": "ece8a479",
   "metadata": {},
   "outputs": [],
   "source": [
    "def is_even(x): \n",
    "    \"\"\"Check if the provided number is even.\"\"\"\n",
    "    if x%2 == 0: \n",
    "        return True\n",
    "    else: \n",
    "        return False"
   ]
  },
  {
   "cell_type": "code",
   "execution_count": 10,
   "id": "12c21433",
   "metadata": {},
   "outputs": [
    {
     "name": "stdout",
     "output_type": "stream",
     "text": [
      "True\n",
      "False\n"
     ]
    }
   ],
   "source": [
    "print(is_even(4)) \n",
    "print(is_even(3))"
   ]
  },
  {
   "cell_type": "markdown",
   "id": "04a98d0e",
   "metadata": {},
   "source": [
    "## Numpy - Arrays"
   ]
  },
  {
   "cell_type": "code",
   "execution_count": 11,
   "id": "077c2c93",
   "metadata": {},
   "outputs": [
    {
     "name": "stdout",
     "output_type": "stream",
     "text": [
      "Matrix A: \n",
      " [[1 5 3 2]\n",
      " [2 3 1 6]] \n",
      "\n",
      "Matrix B: \n",
      " [[1 1 1 1]\n",
      " [2 2 2 2]] \n",
      "\n",
      "Matrix A + B: \n",
      " [[2 6 4 3]\n",
      " [4 5 3 8]] \n",
      "\n"
     ]
    }
   ],
   "source": [
    "# Importing the numpy package.\n",
    "import numpy as np\n",
    "\n",
    "# Creating an array/matrix\n",
    "A = np.array([[1, 5, 3, 2], [2, 3, 1, 6]])\n",
    "B = np.array([[1, 1, 1, 1], [2, 2, 2, 2]])\n",
    "\n",
    "print('Matrix A: \\n', A, '\\n')\n",
    "print('Matrix B: \\n', B, '\\n')\n",
    "print('Matrix A + B: \\n', A + B, '\\n')"
   ]
  },
  {
   "cell_type": "markdown",
   "id": "17815ac7",
   "metadata": {},
   "source": [
    "## Plotting with Matplotlib"
   ]
  },
  {
   "cell_type": "code",
   "execution_count": 12,
   "id": "8f642e36",
   "metadata": {},
   "outputs": [
    {
     "data": {
      "text/plain": [
       "Text(0.5, 1.0, 'Histogram')"
      ]
     },
     "execution_count": 12,
     "metadata": {},
     "output_type": "execute_result"
    },
    {
     "data": {
      "image/png": "[encoded data removed]",
      "text/plain": [
       "<Figure size 864x576 with 4 Axes>"
      ]
     },
     "metadata": {
      "needs_background": "light"
     },
     "output_type": "display_data"
    }
   ],
   "source": [
    "import matplotlib.pyplot as plt\n",
    "\n",
    "# Generating data.\n",
    "x = np.linspace(-2, 2, 100)\n",
    "\n",
    "np.random.seed(15)\n",
    "random_data_x = np.random.randn(1000)\n",
    "random_data_y = np.random.randn(1000)\n",
    "\n",
    "categorical_data = {'grapes': 22, 'apple': 8, 'orange': 15, 'lemon': 20, 'lime': 25}\n",
    "names = list(categorical_data.keys())\n",
    "values = list(categorical_data.values())\n",
    "\n",
    "# Creating Subplots.\n",
    "fig, axs = plt.subplots(2, 2, figsize = (12, 8), layout='constrained')\n",
    "fig.suptitle('Different Plots', size = 30)\n",
    "\n",
    "axs[0, 0].plot(x, x**2)\n",
    "axs[0, 0].set_title('A simple plot')\n",
    "\n",
    "axs[0, 1].scatter(random_data_x, random_data_y)\n",
    "axs[0, 1].set_title('Scatter Plot')\n",
    "\n",
    "axs[1, 0].bar(names, values)\n",
    "axs[1, 0].set_title('Bar Plot')\n",
    "\n",
    "axs[1, 1].hist(random_data_x, bins = 20)\n",
    "axs[1, 1].set_title('Histogram')"
   ]
  },
  {
   "cell_type": "markdown",
   "id": "ce497582",
   "metadata": {},
   "source": [
    "# Chapter: Variables\n",
    "Variables are created by assigning them a value. When naming variables, you can use a combination of capital and small letters, underscores and digits but you may not start with a digit. Python is case sensitive.\n",
    "\n",
    "In python, the convention is that variables should be named in this form: **lower_case_with_underscores**.\n",
    "See section \"Function and Variable Names\" in the Style Guide for Python Code: \n",
    "https://peps.python.org/pep-0008/#function-and-variable-names .\n",
    "\n",
    "Try to have descriptive variable names since this increases the readability of your code both for you and others. "
   ]
  },
  {
   "cell_type": "code",
   "execution_count": 13,
   "id": "0ab7548f",
   "metadata": {},
   "outputs": [
    {
     "name": "stdout",
     "output_type": "stream",
     "text": [
      "Small a: 2\n",
      "Capital A: 5\n"
     ]
    }
   ],
   "source": [
    "a = 2 \n",
    "A = 5\n",
    "\n",
    "# Variable names are case sensitive. \n",
    "print('Small a:', a) \n",
    "print('Capital A:', A) \n",
    "\n",
    "# This is how your variables should be named. \n",
    "a_good_variable_name = 'Indeed'"
   ]
  },
  {
   "cell_type": "code",
   "execution_count": 14,
   "id": "1f4f4d86",
   "metadata": {},
   "outputs": [
    {
     "name": "stdout",
     "output_type": "stream",
     "text": [
      "3\n",
      "6\n",
      "\n",
      "16\n",
      "48\n"
     ]
    }
   ],
   "source": [
    "# Variables can be altered after defining them.\n",
    "x = 3\n",
    "print(x) \n",
    "x = x + 3\n",
    "print(x)\n",
    "\n",
    "print()\n",
    "\n",
    "x += 10  # Equivalent to x = x + 10.\n",
    "print(x)\n",
    "\n",
    "x *= 3  # Equivalent to x = x*3.\n",
    "print(x)"
   ]
  },
  {
   "cell_type": "markdown",
   "id": "7731b0a9",
   "metadata": {},
   "source": [
    "# Chapter: Types\n",
    "In this section we are going to look at three different types in Python; Numeric Types, Booleans and Strings. "
   ]
  },
  {
   "cell_type": "markdown",
   "id": "d685f5cd",
   "metadata": {},
   "source": [
    "## Numeric Types\n",
    "There are three distinct numeric types: integers, floating point numbers, and complex numbers."
   ]
  },
  {
   "cell_type": "code",
   "execution_count": 15,
   "id": "882cb945",
   "metadata": {},
   "outputs": [
    {
     "name": "stdout",
     "output_type": "stream",
     "text": [
      "type of a <class 'int'>\n",
      "type of a2 <class 'float'>\n",
      "type of a3 <class 'float'>\n",
      "type of a4 <class 'int'>\n"
     ]
    }
   ],
   "source": [
    "# Integers and floats.\n",
    "a = 5\n",
    "a2 = 5.0 \n",
    "a3 = float(a)\n",
    "a4 = int(a3)\n",
    "\n",
    "print('type of a', type(a))\n",
    "print('type of a2', type(a2))\n",
    "print('type of a3', type(a3))\n",
    "print('type of a4', type(a4))"
   ]
  },
  {
   "cell_type": "code",
   "execution_count": 16,
   "id": "813165bc",
   "metadata": {},
   "outputs": [
    {
     "name": "stdout",
     "output_type": "stream",
     "text": [
      "5.0 <class 'float'>\n",
      "\n",
      "1.6666666666666667 <class 'float'>\n"
     ]
    }
   ],
   "source": [
    "# An operation on an integer and a float returns a float. \n",
    "b = 2 + 3.0 \n",
    "print(b, type(b))\n",
    "print()\n",
    "\n",
    "# The result of 5/3 is not an integer so we get a float.\n",
    "print(5/3, type(5/3))"
   ]
  },
  {
   "cell_type": "code",
   "execution_count": 17,
   "id": "e6f123ac",
   "metadata": {},
   "outputs": [
    {
     "name": "stdout",
     "output_type": "stream",
     "text": [
      "0.10000000000000003\n"
     ]
    },
    {
     "data": {
      "text/plain": [
       "False"
      ]
     },
     "execution_count": 17,
     "metadata": {},
     "output_type": "execute_result"
    }
   ],
   "source": [
    "# Possible \"dangers\" with floats. Good to be aware of, but do not worry to much. \n",
    "\n",
    "print(0.4 - 0.3)  # The exact answer is 0.1.\n",
    "0.4 - 0.3 == 0.1\n",
    "\n",
    "# Long story short, floats are represented in the computer as base 2 fractions, meaning it is not \"exact\". \n",
    "# If you want to read more about it, check this: https://docs.python.org/3/tutorial/floatingpoint.html "
   ]
  },
  {
   "cell_type": "code",
   "execution_count": 18,
   "id": "7c277660",
   "metadata": {},
   "outputs": [
    {
     "name": "stdout",
     "output_type": "stream",
     "text": [
      "<class 'complex'>\n",
      "real part 2.0\n",
      "imaginary part 3.0\n",
      "conjugate of z: (2-3j)\n"
     ]
    }
   ],
   "source": [
    "# Complex numbers. \n",
    "z = 2 + 3j\n",
    "print(type(z))\n",
    "\n",
    "# Some calculations.\n",
    "print('real part', z.real)\n",
    "print('imaginary part', z.imag)\n",
    "print('conjugate of z:', z.conjugate())"
   ]
  },
  {
   "cell_type": "markdown",
   "id": "24a08809",
   "metadata": {},
   "source": [
    "## Booleans\n",
    "When you compare two values, the expression is evaluated and Python returns the answer \"True\" or \"False\" which has the type \"Boolean\"."
   ]
  },
  {
   "cell_type": "code",
   "execution_count": 19,
   "id": "74e5e9bc",
   "metadata": {},
   "outputs": [
    {
     "name": "stdout",
     "output_type": "stream",
     "text": [
      "True\n",
      "False\n",
      "True\n",
      "\n",
      "True\n",
      "False\n",
      "\n",
      "False\n",
      "True\n",
      "\n",
      "<class 'bool'>\n",
      "<class 'bool'>\n"
     ]
    }
   ],
   "source": [
    "print(10 > 5)\n",
    "print(10 > 10)\n",
    "print(10 >= 10)\n",
    "print() \n",
    "\n",
    "print(10 == 10)  # Note the double equal sign. \n",
    "print(10 == 2)\n",
    "print() \n",
    "\n",
    "print(10 != 10)\n",
    "print(10 != 5)\n",
    "print() \n",
    "\n",
    "# Verify that we get an boolean.\n",
    "print(type(True))\n",
    "print(type(10 > 2))"
   ]
  },
  {
   "cell_type": "markdown",
   "id": "ba91f7e9",
   "metadata": {},
   "source": [
    "## IF Statements\n",
    "Booleans are often used with if statements.\n",
    "e.g. you want to do something if a condition is true, else you do something else."
   ]
  },
  {
   "cell_type": "code",
   "execution_count": 20,
   "id": "2889b046",
   "metadata": {},
   "outputs": [
    {
     "name": "stdout",
     "output_type": "stream",
     "text": [
      "The price is neither 10 or 15\n"
     ]
    }
   ],
   "source": [
    "price = 5\n",
    "\n",
    "if price == 10: \n",
    "    print('The price is 10')\n",
    "elif price == 15:\n",
    "    print('The price is 15')\n",
    "else:\n",
    "    print('The price is neither 10 or 15')"
   ]
  },
  {
   "cell_type": "markdown",
   "id": "06c33be1",
   "metadata": {},
   "source": [
    "## Strings\n",
    "In Python you can enclose strings in either single ('...') or double quotes (\"...\"). "
   ]
  },
  {
   "cell_type": "code",
   "execution_count": 21,
   "id": "492b2f71",
   "metadata": {},
   "outputs": [
    {
     "name": "stdout",
     "output_type": "stream",
     "text": [
      "Python is Awesome!\n",
      "<class 'str'>\n"
     ]
    }
   ],
   "source": [
    "my_text = 'Python is Awesome!'\n",
    "print(my_text)\n",
    "print(type(my_text))"
   ]
  },
  {
   "cell_type": "code",
   "execution_count": 22,
   "id": "9e7c0850",
   "metadata": {},
   "outputs": [],
   "source": [
    "# This returns an error.\n",
    "# 'he's"
   ]
  },
  {
   "cell_type": "code",
   "execution_count": 23,
   "id": "6cce8555",
   "metadata": {},
   "outputs": [
    {
     "data": {
      "text/plain": [
       "\"he's\""
      ]
     },
     "execution_count": 23,
     "metadata": {},
     "output_type": "execute_result"
    }
   ],
   "source": [
    "# Solution, use double quotes.\n",
    "\"he's\" "
   ]
  },
  {
   "cell_type": "code",
   "execution_count": 24,
   "id": "564f84cb",
   "metadata": {},
   "outputs": [
    {
     "name": "stdout",
     "output_type": "stream",
     "text": [
      "Totally agree, \n",
      " Python is awesome!\n"
     ]
    }
   ],
   "source": [
    "#\\n is new line.\n",
    "s = 'Totally agree, \\n Python is awesome!' \n",
    "print(s)"
   ]
  },
  {
   "cell_type": "code",
   "execution_count": 25,
   "id": "45ab805d",
   "metadata": {},
   "outputs": [
    {
     "name": "stdout",
     "output_type": "stream",
     "text": [
      " \n",
      "Writing a multiline \n",
      "string\n",
      "\n"
     ]
    }
   ],
   "source": [
    "# Multi line strings.\n",
    "multiliner =\"\"\" \n",
    "Writing a multiline \n",
    "string\n",
    "\"\"\"\n",
    "print(multiliner)"
   ]
  },
  {
   "cell_type": "code",
   "execution_count": 26,
   "id": "ba6b350c",
   "metadata": {},
   "outputs": [
    {
     "name": "stdout",
     "output_type": "stream",
     "text": [
      "HaHa\n",
      "HaHaHa\n"
     ]
    }
   ],
   "source": [
    "# Operations on strings. \n",
    "s = 'Ha'\n",
    "print(s + s)  # \"Addition\" means concatination. \n",
    "print(s*3)  # s*3 is equivalent to s + s + s. "
   ]
  },
  {
   "cell_type": "markdown",
   "id": "ec47b616",
   "metadata": {},
   "source": [
    "## Formatted Strings\n",
    "f-strings make our code more \"dynamic\" and allow us to add variables to a string."
   ]
  },
  {
   "cell_type": "code",
   "execution_count": 27,
   "id": "aaa48d63",
   "metadata": {},
   "outputs": [
    {
     "name": "stdout",
     "output_type": "stream",
     "text": [
      "It all started in February, 1991.\n"
     ]
    }
   ],
   "source": [
    "month = 'February'\n",
    "year = 1991\n",
    "\n",
    "print(f'It all started in {month}, {year}.')"
   ]
  },
  {
   "cell_type": "markdown",
   "id": "d0f4889f",
   "metadata": {},
   "source": [
    "# Chapter: Containers \n",
    "Containers are used to group objects together. The core built-in containers in Python are: \n",
    "* Lists\n",
    "* Tuples\n",
    "* Dictionaries \n",
    "* Sets"
   ]
  },
  {
   "cell_type": "markdown",
   "id": "b89b3337",
   "metadata": {},
   "source": [
    "## Lists\n",
    "Lists can contain items of different types, they are mutable meaning we can change their content and we can also index them (to get a single element) or slice them (to get a sequence of elements)."
   ]
  },
  {
   "cell_type": "code",
   "execution_count": 28,
   "id": "21c5a5c2",
   "metadata": {},
   "outputs": [
    {
     "name": "stdout",
     "output_type": "stream",
     "text": [
      "[5, 9.0, 12, 'Python', 'Is fun!']\n",
      "<class 'list'>\n"
     ]
    }
   ],
   "source": [
    "# Creating a list.\n",
    "L = [5, 9.0, 12, 'Python', 'Is fun!']\n",
    "\n",
    "print(L)\n",
    "print(type(L))"
   ]
  },
  {
   "cell_type": "code",
   "execution_count": 29,
   "id": "1271640b",
   "metadata": {},
   "outputs": [
    {
     "name": "stdout",
     "output_type": "stream",
     "text": [
      "5\n"
     ]
    }
   ],
   "source": [
    "# Extracting the first element with indexing. In Python indexing starts from 0. \n",
    "print(L[0])  "
   ]
  },
  {
   "cell_type": "code",
   "execution_count": 30,
   "id": "7dad96df",
   "metadata": {},
   "outputs": [
    {
     "name": "stdout",
     "output_type": "stream",
     "text": [
      "[9.0, 12, 'Python']\n"
     ]
    }
   ],
   "source": [
    "# When slicing a list the left bound is included while the right is not.\n",
    "# So we only get the elements with index values ranging from 1 to 3 in the code below.\n",
    "print(L[1:4])"
   ]
  },
  {
   "cell_type": "code",
   "execution_count": 31,
   "id": "87e7b45f",
   "metadata": {},
   "outputs": [
    {
     "name": "stdout",
     "output_type": "stream",
     "text": [
      "[5, 99, 12, 'Python', 'Is fun!']\n"
     ]
    }
   ],
   "source": [
    "# Changing the content of our list. \n",
    "L[1] = 99\n",
    "print(L)"
   ]
  },
  {
   "cell_type": "markdown",
   "id": "c696d7ad",
   "metadata": {},
   "source": [
    "### Indexing & Slicing Lists\n",
    "Main things to have in mind: \n",
    "- Indexing starts from 0 (not 1).\n",
    "- When slicing a list the left bound is included while the right is not."
   ]
  },
  {
   "cell_type": "code",
   "execution_count": 32,
   "id": "48891706",
   "metadata": {},
   "outputs": [
    {
     "name": "stdout",
     "output_type": "stream",
     "text": [
      "p\n",
      "\n",
      "last\n"
     ]
    }
   ],
   "source": [
    "L1 = [\"p\", 5, 11, \"apples\", 3, 4, 7, 12, 14, \"last\"]\n",
    "\n",
    "# Some basic indexing. \n",
    "print(L1[0])\n",
    "print() \n",
    "\n",
    "# Returning the last element. \n",
    "print(L1[-1])"
   ]
  },
  {
   "cell_type": "code",
   "execution_count": 33,
   "id": "f17f1a22",
   "metadata": {},
   "outputs": [
    {
     "name": "stdout",
     "output_type": "stream",
     "text": [
      "['p', 5, 11, 'apples', 3, 4, 7, 12, 14, 'last']\n",
      "['p', 'apples']\n",
      "['p', 5]\n",
      "[7, 12, 14]\n"
     ]
    }
   ],
   "source": [
    "# Slicing: L1[start:stop[:step]].\n",
    "# The stepsize is by default 1 and can be omitted.\n",
    "\n",
    "print(L1)\n",
    "\n",
    "print(L1[0:5:3])\n",
    "print(L1[0:2]) # Right bound is not included and step size is by default 1. \n",
    "print(L1[-4:-1])"
   ]
  },
  {
   "cell_type": "code",
   "execution_count": 34,
   "id": "ba455923",
   "metadata": {},
   "outputs": [
    {
     "name": "stdout",
     "output_type": "stream",
     "text": [
      "['p', 5, 11, 'apples', 3, 4, 7, 12, 14, 'last']\n",
      "['p', 11, 3, 7, 14]\n",
      "['last', 14, 12, 7, 4, 3, 'apples', 11, 5, 'p']\n"
     ]
    }
   ],
   "source": [
    "# More examples on slicing.  \n",
    "\n",
    "print(L1[:])  # Get all elements. \n",
    "print(L1[::2])  # Get every second element. \n",
    "print(L1[::-1])  # Reversing the list by using a step of -1."
   ]
  },
  {
   "cell_type": "code",
   "execution_count": 35,
   "id": "92f46b24",
   "metadata": {},
   "outputs": [
    {
     "name": "stdout",
     "output_type": "stream",
     "text": [
      "[]\n"
     ]
    }
   ],
   "source": [
    "# Slicing out-of-bound returns an empty list.  \n",
    "print(L1[100:200])"
   ]
  },
  {
   "cell_type": "code",
   "execution_count": 36,
   "id": "fb9615d6",
   "metadata": {},
   "outputs": [],
   "source": [
    "# Indexing out-of-bound returns an error.\n",
    "# L1[100]"
   ]
  },
  {
   "cell_type": "markdown",
   "id": "61fc6eae",
   "metadata": {},
   "source": [
    "### List Methods\n",
    "Methods are functions available for a given object which will be Lists in this video. "
   ]
  },
  {
   "cell_type": "code",
   "execution_count": 37,
   "id": "108b94bb",
   "metadata": {},
   "outputs": [
    {
     "name": "stdout",
     "output_type": "stream",
     "text": [
      "[0, 1, 1, 2, 3, 5, 8, 13, 21, ['Python', 'is', 'Awesome!']]\n",
      "[0, 1, 1, 2, 3, 5, 8, 13, 21, ['Python', 'is', 'Awesome!'], 'Python', 'is', 'Awesome!']\n"
     ]
    }
   ],
   "source": [
    "L2 = [0, 1, 1, 2, 3, 5, 8, 13, 21]\n",
    "L3 = ['Python', 'is', 'Awesome!']\n",
    "\n",
    "L2.append(L3)\n",
    "print(L2)  # Now our list contains a list. \n",
    "\n",
    "# Notice \"append\" adds the whole list while \"extend\" adds the individual elements in the list.\n",
    "L2.extend(L3)\n",
    "print(L2)"
   ]
  },
  {
   "cell_type": "code",
   "execution_count": null,
   "id": "878c63e3",
   "metadata": {},
   "outputs": [],
   "source": []
  },
  {
   "cell_type": "code",
   "execution_count": 38,
   "id": "84e9a067",
   "metadata": {},
   "outputs": [
    {
     "name": "stdout",
     "output_type": "stream",
     "text": [
      "['Python', 'is', 'Awesome!']\n",
      "Python\n"
     ]
    }
   ],
   "source": [
    "# A small detour on indexing/slicing. \n",
    "\n",
    "# We get the list in the list. \n",
    "print(L2[-4])\n",
    "# We index the list inside the list.\n",
    "print(L2[-4][0])"
   ]
  },
  {
   "cell_type": "code",
   "execution_count": 39,
   "id": "ad5ff3f4",
   "metadata": {},
   "outputs": [
    {
     "name": "stdout",
     "output_type": "stream",
     "text": [
      "[0, 1, 1, 2, 3, 5, 8, 13, 21, ['Python', 'is', 'Awesome!'], 'Python', 'is', 'Awesome!']\n",
      "[0, 1, 1, 2, 3, 5, 13, 21, ['Python', 'is', 'Awesome!'], 'Python', 'is', 'Awesome!']\n",
      "[0, 1, 1, 2, 3, 5, 13, 21, ['Python', 'is', 'Awesome!'], 'Python', 'is']\n",
      "Awesome!\n"
     ]
    }
   ],
   "source": [
    "# The pop function removes and returns the element with a specific index value or\n",
    "# the last element if no index value is provided. \n",
    "\n",
    "# Remove the element with index value 6.\n",
    "print(L2)\n",
    "L2.pop(6)\n",
    "print(L2)\n",
    "\n",
    "# If no index value provided the last element is removed. In this case we stored it in the variable last. \n",
    "last = L2.pop() \n",
    "print(L2)\n",
    "print(last)"
   ]
  },
  {
   "cell_type": "code",
   "execution_count": 40,
   "id": "6bf29d84",
   "metadata": {},
   "outputs": [
    {
     "name": "stdout",
     "output_type": "stream",
     "text": [
      "['is', 'Python', ['Python', 'is', 'Awesome!'], 21, 13, 5, 3, 2, 1, 1, 0]\n"
     ]
    }
   ],
   "source": [
    "# Reverse the list.\n",
    "L2.reverse()\n",
    "print(L2)"
   ]
  },
  {
   "cell_type": "code",
   "execution_count": 41,
   "id": "33597447",
   "metadata": {},
   "outputs": [
    {
     "name": "stdout",
     "output_type": "stream",
     "text": [
      "['is', 'Python', ['Python', 'is', 'Awesome!'], 21, 13, 5, 3, 2, 1, 1, 0]\n",
      "2\n"
     ]
    }
   ],
   "source": [
    "# Count the number of times an element occurs.\n",
    "print(L2)\n",
    "print(L2.count(1))"
   ]
  },
  {
   "cell_type": "markdown",
   "id": "e5ef7813",
   "metadata": {},
   "source": [
    "### List Comprehension\n",
    "List comprehension is an elegant way to create a new list based on the values of an existing list. "
   ]
  },
  {
   "cell_type": "code",
   "execution_count": 42,
   "id": "4f2927c9",
   "metadata": {},
   "outputs": [
    {
     "name": "stdout",
     "output_type": "stream",
     "text": [
      "[1, 2, 3, 4, 5, 6, 7, 8, 9, 10, 11, 12]\n",
      "[2, 4, 6]\n"
     ]
    }
   ],
   "source": [
    "numbers = [1, 2, 3, 4, 5, 6, 7, 8, 9, 10, 11, 12] \n",
    "print(numbers)\n",
    "\n",
    "# Notice \"x\" below is arbitraty and Including a condition is not necessary.\n",
    "new_list = [x*2 for x in numbers if 1 <= x <= 3]\n",
    "print(new_list)"
   ]
  },
  {
   "cell_type": "markdown",
   "id": "c114c107",
   "metadata": {},
   "source": [
    "## Tuples\n",
    "Tuples are immutable meaning you cannot change them. This property is for instance useful in situations when you know that the data should not be changed making your code more robust and safer."
   ]
  },
  {
   "cell_type": "code",
   "execution_count": 43,
   "id": "e8a70436",
   "metadata": {},
   "outputs": [
    {
     "name": "stdout",
     "output_type": "stream",
     "text": [
      "(1, 2, 3, 'a', 'b', 'c')\n",
      "<class 'tuple'>\n",
      "\n",
      "(1, 2, 3)\n",
      "<class 'tuple'>\n"
     ]
    }
   ],
   "source": [
    "our_first_tuple = (1, 2, 3, 'a', 'b', 'c')\n",
    "print(our_first_tuple)\n",
    "print(type(our_first_tuple))\n",
    "print()\n",
    "\n",
    "# Parentheses are not neccessary when creating tuples.\n",
    "no_parentheses_needed = 1, 2, 3\n",
    "print(no_parentheses_needed)\n",
    "print(type(no_parentheses_needed))"
   ]
  },
  {
   "cell_type": "code",
   "execution_count": 44,
   "id": "c4e0e1fd",
   "metadata": {},
   "outputs": [],
   "source": [
    "# Tuples are immutable.\n",
    "# our_first_tuple[0] = 5"
   ]
  },
  {
   "cell_type": "code",
   "execution_count": 45,
   "id": "cca9a2ec",
   "metadata": {},
   "outputs": [
    {
     "name": "stdout",
     "output_type": "stream",
     "text": [
      "1\n",
      "(2, 3, 'a', 'b')\n"
     ]
    }
   ],
   "source": [
    "# Indexing as with lists.\n",
    "print(our_first_tuple[0])\n",
    "\n",
    "# Slicing as with lists.\n",
    "print(our_first_tuple[1:5])"
   ]
  },
  {
   "cell_type": "code",
   "execution_count": 46,
   "id": "ad982629",
   "metadata": {},
   "outputs": [
    {
     "name": "stdout",
     "output_type": "stream",
     "text": [
      "<class 'int'>\n",
      "<class 'tuple'>\n"
     ]
    }
   ],
   "source": [
    "# Below is an integer (not a tuple).\n",
    "single_element_tuple = (1)\n",
    "print(type(single_element_tuple))\n",
    "\n",
    "# Must put a comma at the end.\n",
    "single_element_tuple_v2 = (1,)\n",
    "print(type(single_element_tuple_v2))"
   ]
  },
  {
   "cell_type": "markdown",
   "id": "ef65c2f8",
   "metadata": {},
   "source": [
    "## Dictionaries\n",
    "Dictionaries are created by a key:value pair and are indexed by using keys which also are immutable. "
   ]
  },
  {
   "cell_type": "code",
   "execution_count": 47,
   "id": "93b85fbd",
   "metadata": {},
   "outputs": [
    {
     "name": "stdout",
     "output_type": "stream",
     "text": [
      "Bjarne\n",
      "<class 'dict'>\n"
     ]
    }
   ],
   "source": [
    "# Creating a register of some people each having a unique ID (key).\n",
    "register = {1: 'Ada', 3: 'Bjarne', 17: 'Guido'}\n",
    "\n",
    "print(register[3])\n",
    "print(type(register))"
   ]
  },
  {
   "cell_type": "code",
   "execution_count": 48,
   "id": "fa62aa2d",
   "metadata": {},
   "outputs": [
    {
     "name": "stdout",
     "output_type": "stream",
     "text": [
      "{1: 'Ada', 3: 'Bjarne', 17: 'Guido', 22: 'Dennis'}\n"
     ]
    }
   ],
   "source": [
    "# Adding a new person in our register. \n",
    "register[22] = 'Dennis' \n",
    "print(register)"
   ]
  },
  {
   "cell_type": "markdown",
   "id": "992e9634",
   "metadata": {},
   "source": [
    "## Sets \n",
    "Sets are unordered collections with no duplicate elements. "
   ]
  },
  {
   "cell_type": "code",
   "execution_count": 49,
   "id": "9767d62d",
   "metadata": {},
   "outputs": [],
   "source": [
    "set_1 = {'apple', 'apple', 'apple', 'banana', 'banana'}\n",
    "set_2 = set(['banana', 'apple'])\n",
    "set_3 = {'apple', 'grapes'}"
   ]
  },
  {
   "cell_type": "code",
   "execution_count": 50,
   "id": "48cb5911",
   "metadata": {},
   "outputs": [
    {
     "name": "stdout",
     "output_type": "stream",
     "text": [
      "True\n"
     ]
    }
   ],
   "source": [
    "# Since sets are unordered and contains no duplicate values set_1 is considered to be the same as set_2. \n",
    "print(set_1 == set_2)"
   ]
  },
  {
   "cell_type": "code",
   "execution_count": 51,
   "id": "7f425c1f",
   "metadata": {},
   "outputs": [
    {
     "name": "stdout",
     "output_type": "stream",
     "text": [
      "{1, 2, 3, 4}\n",
      "{2, 3}\n",
      "{1, 4}\n"
     ]
    }
   ],
   "source": [
    "# We can also perform the basic mathematical set calculations such as union, intersection, and differences.\n",
    "\n",
    "A = {1, 2, 3, 4}\n",
    "B = {3, 2}  # Alternative way to create a set. \n",
    "\n",
    "# Calculating the union (elements atleast in one of the sets).\n",
    "print(A.union(B))\n",
    "\n",
    "# Calculating the intersection (elements that are in both sets).\n",
    "print(A.intersection(B))\n",
    "\n",
    "# Calculating the difference (elements that are in A but not B).\n",
    "print(A.difference(B))"
   ]
  },
  {
   "cell_type": "code",
   "execution_count": 52,
   "id": "c5b4c4f2",
   "metadata": {},
   "outputs": [
    {
     "name": "stdout",
     "output_type": "stream",
     "text": [
      "<class 'dict'>\n",
      "<class 'set'>\n"
     ]
    }
   ],
   "source": [
    "# Creating an empty set.\n",
    "empty_set_wrong = {}\n",
    "print(type(empty_set_wrong))\n",
    "\n",
    "empty_set = set([])\n",
    "print(type(empty_set))"
   ]
  },
  {
   "cell_type": "markdown",
   "id": "b724cc94",
   "metadata": {},
   "source": [
    "## Container Conversion\n",
    "It is straightforward to convert lists, tuples and sets from one container type to another. This might be useful in situations where you want to take advantage of different properties for respective container. "
   ]
  },
  {
   "cell_type": "code",
   "execution_count": 53,
   "id": "a7aa43ca",
   "metadata": {},
   "outputs": [],
   "source": [
    "my_list = [1, 2, 3]\n",
    "my_tuple = ('easy', 'as')\n",
    "my_set = {4, 5, 6}"
   ]
  },
  {
   "cell_type": "code",
   "execution_count": 54,
   "id": "64d7563d",
   "metadata": {},
   "outputs": [
    {
     "name": "stdout",
     "output_type": "stream",
     "text": [
      "['easy', 'as']\n",
      "[4, 5, 6]\n",
      "\n",
      "(1, 2, 3)\n",
      "(4, 5, 6)\n",
      "\n",
      "{1, 2, 3}\n",
      "{'easy', 'as'}\n"
     ]
    }
   ],
   "source": [
    "print(list(my_tuple))\n",
    "print(list(my_set))\n",
    "print()\n",
    "\n",
    "print(tuple(my_list))\n",
    "print(tuple(my_set))\n",
    "print()\n",
    "\n",
    "print(set(my_list))\n",
    "print(set(my_tuple))"
   ]
  },
  {
   "cell_type": "markdown",
   "id": "8d9102bd",
   "metadata": {},
   "source": [
    "### Examples on Container Conversion\n",
    "Different containers have different properties, this can be exploited to solve different kind of problems.  "
   ]
  },
  {
   "cell_type": "code",
   "execution_count": 55,
   "id": "93db5dd3",
   "metadata": {},
   "outputs": [
    {
     "name": "stdout",
     "output_type": "stream",
     "text": [
      "True\n"
     ]
    }
   ],
   "source": [
    "# Question 1: Do the lists l1 and l2 contain the same elements (duplicates and order does not matter)? \n",
    "l1 = [1, 2, 2, 1, 2, 3] \n",
    "l2 = [1, 2, 3]\n",
    "\n",
    "# Easily solved by for example using that sets do not care about either order or duplicates.\n",
    "print(set(l1) == set(l2))"
   ]
  },
  {
   "cell_type": "code",
   "execution_count": 56,
   "id": "dedfff54",
   "metadata": {},
   "outputs": [
    {
     "name": "stdout",
     "output_type": "stream",
     "text": [
      "{105, 10, 100}\n"
     ]
    }
   ],
   "source": [
    "# Question 2: What elements does t1 and t2 have in common? \n",
    "t1 = (5, 10, 100, 105, 77)\n",
    "t2 = (1, 2, 10, 101, 105, 100, 44, 23, 25)\n",
    "\n",
    "# Use the intersection method of sets. \n",
    "print(set(t1).intersection(set(t2)))"
   ]
  },
  {
   "cell_type": "markdown",
   "id": "2ea3f9fe",
   "metadata": {},
   "source": [
    "# Chapter: Iteration & Loops\n",
    "Lists, tuples, dictionaries, and sets are iterable objects meaning that we can traverse through their values in a for loop for example. "
   ]
  },
  {
   "cell_type": "code",
   "execution_count": 57,
   "id": "e832c3ae",
   "metadata": {},
   "outputs": [
    {
     "name": "stdout",
     "output_type": "stream",
     "text": [
      "Zidane\n",
      "Figo\n",
      "Raul\n",
      "Carlos\n",
      "Casillas\n",
      "Ronaldo\n"
     ]
    }
   ],
   "source": [
    "players = ['Zidane', 'Figo', 'Raul', 'Carlos', 'Casillas', 'Ronaldo']\n",
    "\n",
    "for i in players:\n",
    "    print(i)"
   ]
  },
  {
   "cell_type": "code",
   "execution_count": 58,
   "id": "3bb1d009",
   "metadata": {},
   "outputs": [
    {
     "name": "stdout",
     "output_type": "stream",
     "text": [
      "Zidane\n",
      "Figo\n",
      "Raul\n",
      "Carlos\n",
      "Casillas\n",
      "Ronaldo\n"
     ]
    }
   ],
   "source": [
    "for player in players:\n",
    "    print(player)"
   ]
  },
  {
   "cell_type": "markdown",
   "id": "d64b6aea",
   "metadata": {},
   "source": [
    "## The range() Function\n",
    "***The title should have been \"The range ~~range()~~ Function\" so you do not get confused why there are ().***\n",
    "\n",
    "The range function is often used for looping a specific number of times in a for loop. \n",
    "\n",
    "General Syntax: range(start, stop, step). \n",
    "\n",
    "* range(4) is equivalent to range(0, 4, 1). \n",
    "* range(5, 10) is equivalent to range(5, 10, 1)."
   ]
  },
  {
   "cell_type": "code",
   "execution_count": 59,
   "id": "091e848f",
   "metadata": {},
   "outputs": [
    {
     "name": "stdout",
     "output_type": "stream",
     "text": [
      "0\n",
      "2\n",
      "4\n",
      "6\n",
      "8\n"
     ]
    }
   ],
   "source": [
    "# Creating an empty list that we will fill with values. \n",
    "L = []\n",
    "\n",
    "for i in range(0, 10, 2): \n",
    "    print(i)\n",
    "    L.append(i*10)"
   ]
  },
  {
   "cell_type": "code",
   "execution_count": 60,
   "id": "e6b83b48",
   "metadata": {},
   "outputs": [
    {
     "name": "stdout",
     "output_type": "stream",
     "text": [
      "[0, 20, 40, 60, 80]\n"
     ]
    }
   ],
   "source": [
    "print(L)"
   ]
  },
  {
   "cell_type": "markdown",
   "id": "fe3d8cc2",
   "metadata": {},
   "source": [
    "## The enumerate Function\n",
    "We can easily keep track of the iteration number by using the enumerate function in a loop. "
   ]
  },
  {
   "cell_type": "code",
   "execution_count": 61,
   "id": "a51f0e3d",
   "metadata": {},
   "outputs": [
    {
     "name": "stdout",
     "output_type": "stream",
     "text": [
      "0 Zidane\n",
      "1 Figo\n",
      "2 Raul\n",
      "3 Carlos\n",
      "4 Casillas\n",
      "5 Ronaldo\n"
     ]
    }
   ],
   "source": [
    "players = ['Zidane', 'Figo', 'Raul', 'Carlos', 'Casillas', 'Ronaldo']\n",
    "\n",
    "# Using the enumerate function. \n",
    "for iteration_nr, i in enumerate(players): \n",
    "    print(iteration_nr, i)"
   ]
  },
  {
   "cell_type": "code",
   "execution_count": 62,
   "id": "891780a1",
   "metadata": {},
   "outputs": [
    {
     "name": "stdout",
     "output_type": "stream",
     "text": [
      "0 Zidane\n",
      "1 Figo\n",
      "2 Raul\n",
      "3 Carlos\n",
      "4 Casillas\n",
      "5 Ronaldo\n"
     ]
    }
   ],
   "source": [
    "# Using the enumerate function is the recommended approach. \n",
    "for i in range(len(players)): \n",
    "    print(i, players[i])"
   ]
  },
  {
   "cell_type": "markdown",
   "id": "db350692",
   "metadata": {},
   "source": [
    "## A Double For-Loop\n",
    "We can create double (triple, quadruple, ...) for-loops."
   ]
  },
  {
   "cell_type": "code",
   "execution_count": 63,
   "id": "e24aa747",
   "metadata": {},
   "outputs": [
    {
     "name": "stdout",
     "output_type": "stream",
     "text": [
      "\n",
      "0*0 = 0\n",
      "\n",
      "1*0 = 0\n",
      "1*1 = 1\n",
      "\n",
      "2*0 = 0\n",
      "2*1 = 2\n",
      "2*2 = 4\n",
      "\n",
      "3*0 = 0\n",
      "3*1 = 3\n",
      "3*2 = 6\n",
      "3*3 = 9\n",
      "\n",
      "4*0 = 0\n",
      "4*1 = 4\n",
      "4*2 = 8\n",
      "4*3 = 12\n",
      "4*4 = 16\n"
     ]
    }
   ],
   "source": [
    "# Example on using a double for-loop. \n",
    "for i in range(5): \n",
    "    print()\n",
    "    for j in range(i+1): \n",
    "        print(f'{i}*{j} =', i*j)"
   ]
  },
  {
   "cell_type": "markdown",
   "id": "bf841182",
   "metadata": {},
   "source": [
    "## While Loops\n",
    "The while loop executes as long as the condition evaluated remains true."
   ]
  },
  {
   "cell_type": "code",
   "execution_count": 64,
   "id": "b2f0c7d6",
   "metadata": {},
   "outputs": [],
   "source": [
    "# This loop will never stop so has to be interrupted (press \"interrupt the kernel\" next to the Run button). \n",
    "# while 1 < 5: \n",
    "#     print('This will run forever')"
   ]
  },
  {
   "cell_type": "code",
   "execution_count": 65,
   "id": "6f3c5673",
   "metadata": {},
   "outputs": [
    {
     "name": "stdout",
     "output_type": "stream",
     "text": [
      "0\n",
      "1\n",
      "2\n",
      "3\n",
      "4\n",
      "5\n",
      "6\n",
      "7\n",
      "8\n",
      "9\n",
      "10\n"
     ]
    }
   ],
   "source": [
    "# For a while loop not to run forever, we can increment the variable for each iteration. \n",
    "\n",
    "i = 0\n",
    "\n",
    "while i <= 10: \n",
    "    print(i)\n",
    "    i += 1  # i += 1 is equivalent to i = i + 1.\n",
    "    "
   ]
  },
  {
   "cell_type": "markdown",
   "id": "560947e4",
   "metadata": {},
   "source": [
    "## Iterating Through a Dictionary\n",
    "We can either iterate through the items, keys or values in a dictionary. "
   ]
  },
  {
   "cell_type": "code",
   "execution_count": 66,
   "id": "7a8491ec",
   "metadata": {},
   "outputs": [
    {
     "name": "stdout",
     "output_type": "stream",
     "text": [
      "('Anna', 35)\n",
      "<class 'tuple'>\n",
      "\n",
      "('Hanna', 65)\n",
      "<class 'tuple'>\n",
      "\n",
      "('Carl', 13)\n",
      "<class 'tuple'>\n",
      "\n"
     ]
    }
   ],
   "source": [
    "customer_age = {'Anna': 35, 'Hanna': 65, 'Carl': 13}\n",
    "\n",
    "# Iterating through items (returns a tuple).\n",
    "for item in customer_age.items(): \n",
    "    print(item)\n",
    "    print(type(item))\n",
    "    print()"
   ]
  },
  {
   "cell_type": "code",
   "execution_count": 67,
   "id": "a01d8f28",
   "metadata": {},
   "outputs": [
    {
     "name": "stdout",
     "output_type": "stream",
     "text": [
      "Anna 35\n",
      "<class 'str'> <class 'int'>\n",
      "\n",
      "Hanna 65\n",
      "<class 'str'> <class 'int'>\n",
      "\n",
      "Carl 13\n",
      "<class 'str'> <class 'int'>\n",
      "\n"
     ]
    }
   ],
   "source": [
    "# Iterating through items but unpacking the tuple by using two looping variables. \n",
    "for key, value in customer_age.items(): \n",
    "    print(key, value)\n",
    "    print(type(key), type(value))\n",
    "    print()"
   ]
  },
  {
   "cell_type": "code",
   "execution_count": 68,
   "id": "cb3a1f3a",
   "metadata": {},
   "outputs": [
    {
     "name": "stdout",
     "output_type": "stream",
     "text": [
      "Anna\n",
      "Hanna\n",
      "Carl\n"
     ]
    }
   ],
   "source": [
    "# Iterating through keys.\n",
    "for key in customer_age.keys(): \n",
    "    print(key)"
   ]
  },
  {
   "cell_type": "code",
   "execution_count": 69,
   "id": "2d85f3b8",
   "metadata": {},
   "outputs": [
    {
     "name": "stdout",
     "output_type": "stream",
     "text": [
      "35\n",
      "65\n",
      "13\n"
     ]
    }
   ],
   "source": [
    "# Iterating through values.\n",
    "for value in customer_age.values(): \n",
    "    print(value)"
   ]
  },
  {
   "cell_type": "markdown",
   "id": "0d0ac67f",
   "metadata": {},
   "source": [
    "# Chapter: Functions \n",
    "Functions is an important concept which makes it possible to reuse code instead of rewriting/copying it everytime you want to do something. "
   ]
  },
  {
   "cell_type": "code",
   "execution_count": 70,
   "id": "db3fd483",
   "metadata": {},
   "outputs": [
    {
     "name": "stdout",
     "output_type": "stream",
     "text": [
      "Check if 4 is even:\n",
      "Answer: Is Even.\n",
      "\n",
      "Check if 3 is even:\n",
      "Answer: Is not Even.\n"
     ]
    }
   ],
   "source": [
    "# Scenario: Want to check if two numbers are even.\n",
    "\n",
    "print('Check if 4 is even:')\n",
    "if 4 % 2 == 0: \n",
    "    print('Answer: Is Even.') \n",
    "else: \n",
    "    print('Answer: Is not Even.')\n",
    "\n",
    "print()    \n",
    "    \n",
    "print('Check if 3 is even:')\n",
    "if 3 % 2 == 0: \n",
    "    print('Answer: Is Even.') \n",
    "else: \n",
    "    print('Answer: Is not Even.')\n"
   ]
  },
  {
   "cell_type": "code",
   "execution_count": 71,
   "id": "7ffc5b79",
   "metadata": {},
   "outputs": [],
   "source": [
    "# Creating a function to check if a number is even. \n",
    "\n",
    "def is_even(x): \n",
    "    if x % 2 == 0: \n",
    "        return True \n",
    "    else: \n",
    "        return False "
   ]
  },
  {
   "cell_type": "code",
   "execution_count": 72,
   "id": "b7efa7fd",
   "metadata": {},
   "outputs": [
    {
     "name": "stdout",
     "output_type": "stream",
     "text": [
      "True\n",
      "False\n"
     ]
    }
   ],
   "source": [
    "print(is_even(4)) \n",
    "print(is_even(3))"
   ]
  },
  {
   "cell_type": "markdown",
   "id": "cdf789bc",
   "metadata": {},
   "source": [
    "## Function Naming and Documentation Strings\n",
    "By convention, functions should be named in lowercase with words seperated by underscores. \n",
    "\n",
    "If having a Documentation String, \"Docstring\", which you should if you want to write \"good code\", the first line should be a concise summary of the purpose and surrounded by triple double quotes. You can read more about docstring conventions at: \n",
    "- https://peps.python.org/pep-0008/#documentation-strings .\n",
    "- https://peps.python.org/pep-0257/ .\n",
    "- https://pandas.pydata.org/docs/development/contributing_docstring.html#:~:text=A%20Python%20docstring%20is%20a,html)%20documentation%20automatically%20from%20docstrings."
   ]
  },
  {
   "cell_type": "code",
   "execution_count": 73,
   "id": "e40d7cc6",
   "metadata": {},
   "outputs": [],
   "source": [
    "def is_even(x): \n",
    "    \"\"\"Returns True if the number is even, else False.\"\"\"\n",
    "    if x % 2 == 0: \n",
    "        return True \n",
    "    else: \n",
    "        return False "
   ]
  },
  {
   "cell_type": "code",
   "execution_count": 74,
   "id": "5055428d",
   "metadata": {},
   "outputs": [],
   "source": [
    "# An example on how a docstring might look when done properly. \n",
    "# Example taken from: \n",
    "# https://pandas.pydata.org/docs/development/contributing_docstring.html#:~:text=A%20Python%20docstring%20is%20a,html)%20documentation%20automatically%20from%20docstrings. \n",
    "\n",
    "def add(num1, num2):\n",
    "    \"\"\"\n",
    "    Add up two integer numbers.\n",
    "\n",
    "    This function simply wraps the ``+`` operator, and does not\n",
    "    do anything interesting, except for illustrating what\n",
    "    the docstring of a very simple function looks like.\n",
    "\n",
    "    Parameters\n",
    "    ----------\n",
    "    num1 : int\n",
    "        First number to add.\n",
    "    num2 : int\n",
    "        Second number to add.\n",
    "\n",
    "    Returns\n",
    "    -------\n",
    "    int\n",
    "        The sum of ``num1`` and ``num2``.\n",
    "\n",
    "    See Also\n",
    "    --------\n",
    "    subtract : Subtract one integer from another.\n",
    "\n",
    "    Examples\n",
    "    --------\n",
    "    >>> add(2, 2)\n",
    "    4\n",
    "    >>> add(25, 0)\n",
    "    25\n",
    "    >>> add(10, -10)\n",
    "    0\n",
    "    \"\"\"\n",
    "    return num1 + num2"
   ]
  },
  {
   "cell_type": "markdown",
   "id": "9727124e",
   "metadata": {},
   "source": [
    "##  Accessing the Documentation String\n",
    "It is possible to access the documentation string."
   ]
  },
  {
   "cell_type": "code",
   "execution_count": 75,
   "id": "33c00aa7",
   "metadata": {},
   "outputs": [
    {
     "name": "stdout",
     "output_type": "stream",
     "text": [
      "range(stop) -> range object\n",
      "range(start, stop[, step]) -> range object\n",
      "\n",
      "Return an object that produces a sequence of integers from start (inclusive)\n",
      "to stop (exclusive) by step.  range(i, j) produces i, i+1, i+2, ..., j-1.\n",
      "start defaults to 0, and stop is omitted!  range(4) produces 0, 1, 2, 3.\n",
      "These are exactly the valid indices for a list of 4 elements.\n",
      "When step is given, it specifies the increment (or decrement).\n"
     ]
    }
   ],
   "source": [
    "print(range.__doc__)"
   ]
  },
  {
   "cell_type": "code",
   "execution_count": 76,
   "id": "a6bc0d7f",
   "metadata": {},
   "outputs": [
    {
     "name": "stdout",
     "output_type": "stream",
     "text": [
      "Help on class range in module builtins:\n",
      "\n",
      "class range(object)\n",
      " |  range(stop) -> range object\n",
      " |  range(start, stop[, step]) -> range object\n",
      " |  \n",
      " |  Return an object that produces a sequence of integers from start (inclusive)\n",
      " |  to stop (exclusive) by step.  range(i, j) produces i, i+1, i+2, ..., j-1.\n",
      " |  start defaults to 0, and stop is omitted!  range(4) produces 0, 1, 2, 3.\n",
      " |  These are exactly the valid indices for a list of 4 elements.\n",
      " |  When step is given, it specifies the increment (or decrement).\n",
      " |  \n",
      " |  Methods defined here:\n",
      " |  \n",
      " |  __bool__(self, /)\n",
      " |      self != 0\n",
      " |  \n",
      " |  __contains__(self, key, /)\n",
      " |      Return key in self.\n",
      " |  \n",
      " |  __eq__(self, value, /)\n",
      " |      Return self==value.\n",
      " |  \n",
      " |  __ge__(self, value, /)\n",
      " |      Return self>=value.\n",
      " |  \n",
      " |  __getattribute__(self, name, /)\n",
      " |      Return getattr(self, name).\n",
      " |  \n",
      " |  __getitem__(self, key, /)\n",
      " |      Return self[key].\n",
      " |  \n",
      " |  __gt__(self, value, /)\n",
      " |      Return self>value.\n",
      " |  \n",
      " |  __hash__(self, /)\n",
      " |      Return hash(self).\n",
      " |  \n",
      " |  __iter__(self, /)\n",
      " |      Implement iter(self).\n",
      " |  \n",
      " |  __le__(self, value, /)\n",
      " |      Return self<=value.\n",
      " |  \n",
      " |  __len__(self, /)\n",
      " |      Return len(self).\n",
      " |  \n",
      " |  __lt__(self, value, /)\n",
      " |      Return self<value.\n",
      " |  \n",
      " |  __ne__(self, value, /)\n",
      " |      Return self!=value.\n",
      " |  \n",
      " |  __reduce__(...)\n",
      " |      Helper for pickle.\n",
      " |  \n",
      " |  __repr__(self, /)\n",
      " |      Return repr(self).\n",
      " |  \n",
      " |  __reversed__(...)\n",
      " |      Return a reverse iterator.\n",
      " |  \n",
      " |  count(...)\n",
      " |      rangeobject.count(value) -> integer -- return number of occurrences of value\n",
      " |  \n",
      " |  index(...)\n",
      " |      rangeobject.index(value) -> integer -- return index of value.\n",
      " |      Raise ValueError if the value is not present.\n",
      " |  \n",
      " |  ----------------------------------------------------------------------\n",
      " |  Static methods defined here:\n",
      " |  \n",
      " |  __new__(*args, **kwargs) from builtins.type\n",
      " |      Create and return a new object.  See help(type) for accurate signature.\n",
      " |  \n",
      " |  ----------------------------------------------------------------------\n",
      " |  Data descriptors defined here:\n",
      " |  \n",
      " |  start\n",
      " |  \n",
      " |  step\n",
      " |  \n",
      " |  stop\n",
      "\n"
     ]
    }
   ],
   "source": [
    "help(range)"
   ]
  },
  {
   "cell_type": "markdown",
   "id": "b523f136",
   "metadata": {},
   "source": [
    "## Function Arguments\n",
    "In Python, by default, arguments may be passed to a function either by position or by keyword where the positional arguments must come before keyword arguments."
   ]
  },
  {
   "cell_type": "code",
   "execution_count": 77,
   "id": "3d64b8ad",
   "metadata": {},
   "outputs": [
    {
     "name": "stdout",
     "output_type": "stream",
     "text": [
      "3\n",
      "3\n",
      "3\n"
     ]
    }
   ],
   "source": [
    "def sum_two_numbers(arg1, arg2): \n",
    "    return arg1 + arg2\n",
    "\n",
    "print(sum_two_numbers(1, 2))  # 2 positional arguments. \n",
    "print(sum_two_numbers(arg1 = 1, arg2 = 2))  # 2 keyword arguments. \n",
    "print(sum_two_numbers(1, arg2 = 2))  # 1 positional, 1 keyword."
   ]
  },
  {
   "cell_type": "code",
   "execution_count": 78,
   "id": "af30ae48",
   "metadata": {},
   "outputs": [],
   "source": [
    "# Positional arguments must come before keyword arguments. So this yield an error.\n",
    "# print(sum_two_numbers(arg1 = 10, 2))"
   ]
  },
  {
   "cell_type": "markdown",
   "id": "4d7d6f84",
   "metadata": {},
   "source": [
    "## Default Arguments\n",
    "In Python it is possible to have default arguments and they must come after non-default arguments. Just as before you can pass the arguments by either position or keyword. "
   ]
  },
  {
   "cell_type": "code",
   "execution_count": 79,
   "id": "95ec1cef",
   "metadata": {},
   "outputs": [
    {
     "name": "stdout",
     "output_type": "stream",
     "text": [
      "50\n",
      "20\n"
     ]
    }
   ],
   "source": [
    "def multiplier_function(x, multiplier = 10): \n",
    "    return x * multiplier\n",
    "\n",
    "# Passing one argument means the default value will be used for the second argument. \n",
    "print(multiplier_function(5))\n",
    "\n",
    "# Passing two arguments means that the default value is not used.\n",
    "print(multiplier_function(4, 5))"
   ]
  },
  {
   "cell_type": "markdown",
   "id": "3338caed",
   "metadata": {},
   "source": [
    "## Restricting Allowed Parameter Types\n",
    "It is possible to restrict the way arguments can be passed, i.e. only by position, position or keyword or only keyword. \n",
    "\n",
    "The general syntax is: \n",
    "\n",
    "**def f(pos_only_1, pos_only_2, /, pos_or_kwd, *, kwd_only_1)**\n",
    "\n",
    "* Positional-only arguments are passed before a / (forward slash). \n",
    "* Keyword-only arguments  placed after an * (asterisk)."
   ]
  },
  {
   "cell_type": "code",
   "execution_count": 80,
   "id": "c3506d36",
   "metadata": {},
   "outputs": [],
   "source": [
    "def kwargs_only(*, arg1, arg2):\n",
    "    return arg1 + arg2"
   ]
  },
  {
   "cell_type": "code",
   "execution_count": 81,
   "id": "ac012e58",
   "metadata": {},
   "outputs": [
    {
     "data": {
      "text/plain": [
       "3"
      ]
     },
     "execution_count": 81,
     "metadata": {},
     "output_type": "execute_result"
    }
   ],
   "source": [
    "# Kwargs work fine.\n",
    "kwargs_only(arg1 = 1, arg2 = 2)"
   ]
  },
  {
   "cell_type": "code",
   "execution_count": 82,
   "id": "97981a5f",
   "metadata": {},
   "outputs": [],
   "source": [
    "# Positional arguments return an error.\n",
    "# kwargs_only(1, 2)"
   ]
  },
  {
   "cell_type": "code",
   "execution_count": 83,
   "id": "0b4d3420",
   "metadata": {},
   "outputs": [],
   "source": [
    "def pos_only(arg1, arg2, /):\n",
    "    return arg1 + arg2"
   ]
  },
  {
   "cell_type": "code",
   "execution_count": 84,
   "id": "2c85c771",
   "metadata": {},
   "outputs": [
    {
     "data": {
      "text/plain": [
       "3"
      ]
     },
     "execution_count": 84,
     "metadata": {},
     "output_type": "execute_result"
    }
   ],
   "source": [
    "# Positional arguments work fine.\n",
    "pos_only(1, 2)"
   ]
  },
  {
   "cell_type": "code",
   "execution_count": 85,
   "id": "f9b7b340",
   "metadata": {},
   "outputs": [],
   "source": [
    "# Kwargs return an error.\n",
    "# pos_only(arg1 = 1, arg2 = 2)"
   ]
  },
  {
   "cell_type": "markdown",
   "id": "2b7fa49e",
   "metadata": {},
   "source": [
    "## Unpacking\n",
    "We can use unpacking if a function requires multiple arguments. \n",
    "* \\*args unpacks a tuple returning positional arguments.\n",
    "* \\**kwargs unpacks a dictionary returning keyword arguments."
   ]
  },
  {
   "cell_type": "code",
   "execution_count": 86,
   "id": "e9c234a0",
   "metadata": {},
   "outputs": [
    {
     "data": {
      "text/plain": [
       "6"
      ]
     },
     "execution_count": 86,
     "metadata": {},
     "output_type": "execute_result"
    }
   ],
   "source": [
    "def sum_three_numbers(a, b, c): \n",
    "    return a + b + c\n",
    "\n",
    "# One way to call the function. \n",
    "sum_three_numbers(1, 2, 3)"
   ]
  },
  {
   "cell_type": "code",
   "execution_count": 87,
   "id": "4b677645",
   "metadata": {},
   "outputs": [
    {
     "data": {
      "text/plain": [
       "6"
      ]
     },
     "execution_count": 87,
     "metadata": {},
     "output_type": "execute_result"
    }
   ],
   "source": [
    "# We can call the function by unpacking a tuple which return positional arguments. \n",
    "my_tuple = (1, 2, 3) \n",
    "\n",
    "sum_three_numbers(*my_tuple)"
   ]
  },
  {
   "cell_type": "code",
   "execution_count": 88,
   "id": "9c3cdcbd",
   "metadata": {},
   "outputs": [
    {
     "data": {
      "text/plain": [
       "6"
      ]
     },
     "execution_count": 88,
     "metadata": {},
     "output_type": "execute_result"
    }
   ],
   "source": [
    "# We can call the function by unpacking a dictionary which return keyword arguments. \n",
    "my_dict = {'a': 1, 'b': 2, 'c': 3}\n",
    "\n",
    "sum_three_numbers(**my_dict)"
   ]
  },
  {
   "cell_type": "markdown",
   "id": "4fd0e93c",
   "metadata": {},
   "source": [
    "## Variable Number of Arguments\n",
    "It is possible to define functions that accepts a varying number of arguments. \n",
    "* With ***args** we can use a variable number of positional arguments.\n",
    "* With ****kwargs** we can use a variable number of keyword arguments. "
   ]
  },
  {
   "cell_type": "code",
   "execution_count": 89,
   "id": "10e2462e",
   "metadata": {},
   "outputs": [],
   "source": [
    "def sum_numbers(*args): \n",
    "    s = 0 \n",
    "    for argument in args: \n",
    "        s = s + argument\n",
    "    return s"
   ]
  },
  {
   "cell_type": "code",
   "execution_count": 90,
   "id": "f6d784e2",
   "metadata": {},
   "outputs": [
    {
     "name": "stdout",
     "output_type": "stream",
     "text": [
      "6\n",
      "55\n"
     ]
    }
   ],
   "source": [
    "# Calling the function with 3 arguments. \n",
    "print(sum_numbers(1, 2, 3))\n",
    "\n",
    "# Calling the function with 10 arguments. \n",
    "print(sum_numbers(1, 2, 3, 4, 5, 6, 7, 8, 9, 10))"
   ]
  },
  {
   "cell_type": "markdown",
   "id": "cec4c4f9",
   "metadata": {},
   "source": [
    "You can check up ****kwargs** which is doing the corrersponding thing for handling a variable number of  keyword arguments."
   ]
  },
  {
   "cell_type": "markdown",
   "id": "ee5dfcab",
   "metadata": {},
   "source": [
    "## Multiple Return Values\n",
    "It is possible to return multiple values when creating a function. "
   ]
  },
  {
   "cell_type": "code",
   "execution_count": 91,
   "id": "f5f14459",
   "metadata": {},
   "outputs": [],
   "source": [
    "def f(x): \n",
    "    \"\"\"Return the argument, argument squared and the argument cubed in a tuple.\"\"\"\n",
    "    return (x, x**2, x**3)"
   ]
  },
  {
   "cell_type": "code",
   "execution_count": 92,
   "id": "fc5c84a3",
   "metadata": {},
   "outputs": [
    {
     "name": "stdout",
     "output_type": "stream",
     "text": [
      "(3, 9, 27)\n",
      "9\n"
     ]
    }
   ],
   "source": [
    "# Return the tuple in a variable.\n",
    "first_method = f(3)\n",
    "print(first_method)\n",
    "print(first_method[1])"
   ]
  },
  {
   "cell_type": "code",
   "execution_count": 93,
   "id": "5e582428",
   "metadata": {},
   "outputs": [
    {
     "name": "stdout",
     "output_type": "stream",
     "text": [
      "3\n",
      "9\n",
      "27\n"
     ]
    }
   ],
   "source": [
    "# Return the answer in multiple variables by tuple unpacking. \n",
    "x1, x2, x3= f(3)\n",
    "\n",
    "print(x1)\n",
    "print(x2)\n",
    "print(x3)"
   ]
  },
  {
   "cell_type": "markdown",
   "id": "ca327c87",
   "metadata": {},
   "source": [
    "# Chapter: Classes - Terminology\n",
    "\"*Classes provide a means of bundling data and functionality together. Creating a new class creates a new type\n",
    "of object, allowing new instances of that type to be made. Each class instance can have attributes attached\n",
    "to it for maintaining its state. Class instances can also have methods (defined by its class) for modifying its\n",
    "state.*\". [ https://docs.python.org/3/tutorial/classes.html ] \n",
    "\n",
    "Some important terminology:\n",
    "\n",
    "* Class = A blueprint/template for how to create objects that share characteristics.\n",
    "* Object = An instance of a class. Example: i = 10 is an object that is an instance of the integer class.\n",
    "* Attributes = Variables that hold data that are part of a class (class attribute) or an instance (instance attribute). Can be accessed by using a dot.\n",
    "* Methods = Functions that are part of a class. Can be accessed by using a dot. \n",
    "* Inheritance = One class can inherit capabilities, such as methods, from another class.\n",
    "\n",
    "Class names should normally use the CapWords convention, example: MyClass. "
   ]
  },
  {
   "cell_type": "markdown",
   "id": "861b0bb7",
   "metadata": {},
   "source": [
    "## Class Instance\n",
    "In Python everything is an object and each object has a class from which it is instantiated. "
   ]
  },
  {
   "cell_type": "code",
   "execution_count": 94,
   "id": "8413b26e",
   "metadata": {},
   "outputs": [
    {
     "data": {
      "text/plain": [
       "True"
      ]
     },
     "execution_count": 94,
     "metadata": {},
     "output_type": "execute_result"
    }
   ],
   "source": [
    "i = int(10)\n",
    "\n",
    "isinstance(i, int)"
   ]
  },
  {
   "cell_type": "markdown",
   "id": "cd6e3aa9",
   "metadata": {},
   "source": [
    "## Creating a Basic Class"
   ]
  },
  {
   "cell_type": "code",
   "execution_count": 95,
   "id": "1cf3b8d7",
   "metadata": {},
   "outputs": [],
   "source": [
    "# Creating a class which does nothing. \n",
    "class TestClass: \n",
    "    pass"
   ]
  },
  {
   "cell_type": "code",
   "execution_count": 96,
   "id": "15987670",
   "metadata": {},
   "outputs": [],
   "source": [
    "# We create an instance, x, by calling the class as if it were a function (which it is not).\n",
    "x = TestClass()"
   ]
  },
  {
   "cell_type": "code",
   "execution_count": null,
   "id": "c37c0323",
   "metadata": {},
   "outputs": [],
   "source": []
  },
  {
   "cell_type": "code",
   "execution_count": 97,
   "id": "a649e180",
   "metadata": {},
   "outputs": [],
   "source": [
    "# Often, classes want to create objects that have an initial state. We can use the __init__ method \n",
    "# which is automatically invoked when creating a class instance.\n",
    "\n",
    "class MyClass: \n",
    "    def __init__(self, name_of_student, age_of_student):  \n",
    "        self.name = name_of_student \n",
    "        self.age = age_of_student"
   ]
  },
  {
   "cell_type": "code",
   "execution_count": 98,
   "id": "67ac8de4",
   "metadata": {},
   "outputs": [],
   "source": [
    "# Creating an instance.\n",
    "student1 = MyClass('Kate', 22)"
   ]
  },
  {
   "cell_type": "code",
   "execution_count": 99,
   "id": "be49a238",
   "metadata": {},
   "outputs": [
    {
     "name": "stdout",
     "output_type": "stream",
     "text": [
      "Kate\n",
      "22\n"
     ]
    }
   ],
   "source": [
    "# Accessing the attributes of student1. \n",
    "print(student1.name)\n",
    "print(student1.age)"
   ]
  },
  {
   "cell_type": "markdown",
   "id": "340d7651",
   "metadata": {},
   "source": [
    "## Class Attributes"
   ]
  },
  {
   "cell_type": "code",
   "execution_count": 100,
   "id": "9b8f169c",
   "metadata": {},
   "outputs": [],
   "source": [
    "class MyClass: \n",
    "    \"\"\"Our class example.\"\"\"\n",
    "    \n",
    "    Teacher = 'Antonio'  # Creating a class variable shared by all instances.\n",
    "    \n",
    "    def __init__(self, name_of_student, age_of_student):  \n",
    "        self.name = name_of_student  \n",
    "        self.age = age_of_student"
   ]
  },
  {
   "cell_type": "code",
   "execution_count": 101,
   "id": "1b402a30",
   "metadata": {},
   "outputs": [],
   "source": [
    "# Creating an instance and assigning it an initial state (attributes).\n",
    "student1 = MyClass('Kate', 22)\n",
    "student2 = MyClass('John', 18)"
   ]
  },
  {
   "cell_type": "code",
   "execution_count": 102,
   "id": "ccb6cda7",
   "metadata": {},
   "outputs": [
    {
     "name": "stdout",
     "output_type": "stream",
     "text": [
      "Antonio\n",
      "Antonio\n"
     ]
    }
   ],
   "source": [
    "# Accessing the class variable which each instance of the class has. \n",
    "print(student1.Teacher)\n",
    "print(student2.Teacher)"
   ]
  },
  {
   "cell_type": "code",
   "execution_count": 103,
   "id": "13bb128a",
   "metadata": {},
   "outputs": [
    {
     "name": "stdout",
     "output_type": "stream",
     "text": [
      "Our class example.\n"
     ]
    }
   ],
   "source": [
    "# Accessing the documentation string \"docstring\".\n",
    "print(MyClass.__doc__)"
   ]
  },
  {
   "cell_type": "markdown",
   "id": "8fcae810",
   "metadata": {},
   "source": [
    "## Class Methods\n",
    "We now add a method (function) to our class."
   ]
  },
  {
   "cell_type": "code",
   "execution_count": 104,
   "id": "f462aade",
   "metadata": {},
   "outputs": [],
   "source": [
    "class MyClass: \n",
    "    \"\"\"Our class example.\"\"\"\n",
    "    \n",
    "    Teacher = 'Antonio'  # Creating a class variable shared by all instances. \n",
    "    \n",
    "    def __init__(self, name_of_student, age_of_student):  \n",
    "        self.name = name_of_student\n",
    "        self.age = age_of_student\n",
    "        \n",
    "    def add_grade(self, grade): \n",
    "        self.grade = grade"
   ]
  },
  {
   "cell_type": "code",
   "execution_count": 105,
   "id": "117fc693",
   "metadata": {},
   "outputs": [],
   "source": [
    "student3 = MyClass('Anna', 45)\n",
    "\n",
    "# \"Modifying\" the state of student2 by assigning it a grade.\n",
    "student3.add_grade('A')"
   ]
  },
  {
   "cell_type": "code",
   "execution_count": 106,
   "id": "8bfd7518",
   "metadata": {},
   "outputs": [
    {
     "data": {
      "text/plain": [
       "'A'"
      ]
     },
     "execution_count": 106,
     "metadata": {},
     "output_type": "execute_result"
    }
   ],
   "source": [
    "student3.grade"
   ]
  },
  {
   "cell_type": "markdown",
   "id": "87a2b996",
   "metadata": {},
   "source": [
    "## Class Inheritance\n",
    "In this example, the child/derived class *Dogs* inherit the method *is_it_a_pet* from the parent/base class *TheParent*. Inheritance is achieved by sending the parent class as an argument when creating the child class."
   ]
  },
  {
   "cell_type": "code",
   "execution_count": 107,
   "id": "5e94f05e",
   "metadata": {},
   "outputs": [],
   "source": [
    "class TheParent:\n",
    "    def is_it_a_pet(self, answer): \n",
    "        self.pet = answer\n",
    "\n",
    "# The class Dogs inherit the method \"is_it_a_pet\" from the base/parent class TheParent and hence does not need to be\n",
    "# added seperately. \n",
    "\n",
    "class Dogs(TheParent): \n",
    "    def __init__(self, name, age): \n",
    "        self.name = name\n",
    "        self.age = age"
   ]
  },
  {
   "cell_type": "code",
   "execution_count": 108,
   "id": "e438676c",
   "metadata": {},
   "outputs": [
    {
     "name": "stdout",
     "output_type": "stream",
     "text": [
      "Bob\n",
      "3\n"
     ]
    }
   ],
   "source": [
    "doggy = Dogs('Bob', 3)\n",
    "print(doggy.name)\n",
    "print(doggy.age)"
   ]
  },
  {
   "cell_type": "code",
   "execution_count": 109,
   "id": "20702201",
   "metadata": {},
   "outputs": [
    {
     "name": "stdout",
     "output_type": "stream",
     "text": [
      "TRUE\n"
     ]
    }
   ],
   "source": [
    "doggy.is_it_a_pet('TRUE')\n",
    "print(doggy.pet)"
   ]
  },
  {
   "cell_type": "markdown",
   "id": "72a1d318",
   "metadata": {},
   "source": [
    "# Chapter: Exceptions\n",
    "Errors during execution are called **exceptions**.\n",
    "\n",
    "A program will stop executing when an error occurs. This means that the rest of the code will not run, to avoid this we can \"protect\" our code by catching exceptions."
   ]
  },
  {
   "cell_type": "code",
   "execution_count": 110,
   "id": "cf2868df",
   "metadata": {},
   "outputs": [
    {
     "name": "stdout",
     "output_type": "stream",
     "text": [
      "This Works fine.\n",
      "Last printout before the exception.\n",
      "I will not run\n",
      "2\n"
     ]
    }
   ],
   "source": [
    "print('This Works fine.')\n",
    "print('Last printout before the exception.')\n",
    "\n",
    "# Creating an error (since dividing by zero is not defined).\n",
    "# 10/0\n",
    "\n",
    "# Code below is not ran due to an exception occured above. \n",
    "print('I will not run')\n",
    "print(1 + 1 )"
   ]
  },
  {
   "cell_type": "markdown",
   "id": "ac269821",
   "metadata": {},
   "source": [
    "## Catching Exceptions\n",
    "We can \"protect our code\" from stop running when an error occurs by \"catching exceptions\". "
   ]
  },
  {
   "cell_type": "code",
   "execution_count": 111,
   "id": "a898904c",
   "metadata": {},
   "outputs": [
    {
     "name": "stdout",
     "output_type": "stream",
     "text": [
      "5.0\n"
     ]
    }
   ],
   "source": [
    "# If an exception / error occurs we \"catch it\" with the except statement meaning that the program will not crash. \n",
    "# Below is bad coding since our except statement catches all exceptions, we should be more specific. \n",
    "try: \n",
    "    print(10/2)\n",
    "except: \n",
    "    print('An exception occured in the try clause and it could be anything. We should be more specific.')"
   ]
  },
  {
   "cell_type": "code",
   "execution_count": 112,
   "id": "f5d8ee67",
   "metadata": {},
   "outputs": [
    {
     "name": "stdout",
     "output_type": "stream",
     "text": [
      "Division by 0 is not defined.\n"
     ]
    }
   ],
   "source": [
    "# To handle the specific error when dividing by zero, we can use the built in exception ZeroDivisionError.\n",
    "try:\n",
    "    print(10/0)\n",
    "except ZeroDivisionError: \n",
    "    print('Division by 0 is not defined.')"
   ]
  },
  {
   "cell_type": "code",
   "execution_count": 113,
   "id": "31441437",
   "metadata": {},
   "outputs": [
    {
     "name": "stdout",
     "output_type": "stream",
     "text": [
      "The variable is not assigned.\n"
     ]
    }
   ],
   "source": [
    "# We can have several except statements to cover multiple cases. \n",
    "try:\n",
    "    variable_not_assigned\n",
    "except NameError: \n",
    "    print('The variable is not assigned.')\n",
    "except ZeroDivisionError: \n",
    "    print('Division by 0 is not defined.')"
   ]
  },
  {
   "cell_type": "markdown",
   "id": "6466f1f0",
   "metadata": {},
   "source": [
    "## Built-in Exceptions\n",
    "**Check the link: https://docs.python.org/3/library/exceptions.html#concrete-exceptions for built-in exceptions.**"
   ]
  },
  {
   "cell_type": "code",
   "execution_count": 114,
   "id": "6205d546",
   "metadata": {},
   "outputs": [
    {
     "name": "stdout",
     "output_type": "stream",
     "text": [
      "The variable is not assigned.\n"
     ]
    }
   ],
   "source": [
    "# Below we use two built-in exceptions, NameError and ZeroDivisionError. \n",
    "try:\n",
    "    variable_not_assigned\n",
    "except NameError: \n",
    "    print('The variable is not assigned.')\n",
    "except ZeroDivisionError: \n",
    "    print('Division by 0 is not defined.')"
   ]
  },
  {
   "cell_type": "markdown",
   "id": "3b1626df",
   "metadata": {},
   "source": [
    "## Else\n",
    "The try - except statement has an optional else clause. It is executed if the try clause raises no exception. Using the else clause is better than adding additional code to the try clause  because it avoids accidentally catching an exception that wasn’t raised by the code being protected by the try - except statement. "
   ]
  },
  {
   "cell_type": "code",
   "execution_count": 115,
   "id": "32ff4760",
   "metadata": {},
   "outputs": [
    {
     "name": "stdout",
     "output_type": "stream",
     "text": [
      "Our division worked out great and the else clause was ran.\n"
     ]
    }
   ],
   "source": [
    "try:\n",
    "    10/2\n",
    "except ZeroDivisionError: \n",
    "    print('Division by 0 is not defined.')\n",
    "else: \n",
    "    print('Our division worked out great and the else clause was ran.')"
   ]
  },
  {
   "cell_type": "code",
   "execution_count": 116,
   "id": "94aba1de",
   "metadata": {},
   "outputs": [
    {
     "name": "stdout",
     "output_type": "stream",
     "text": [
      "Division by 0 is not defined.\n"
     ]
    }
   ],
   "source": [
    "try:\n",
    "    10/0\n",
    "except ZeroDivisionError: \n",
    "    print('Division by 0 is not defined.')\n",
    "else: \n",
    "    print('Our division worked out great and the else clause was ran.')"
   ]
  },
  {
   "cell_type": "markdown",
   "id": "f2b2637a",
   "metadata": {},
   "source": [
    "## Finally\n",
    "The try statement has an optional \"finally\" clause which is intended to define clean-up actions that must be executed under all circumstances. Below we demonstrate some examples showing that the finally clause is always executed. "
   ]
  },
  {
   "cell_type": "code",
   "execution_count": 117,
   "id": "a4c90529",
   "metadata": {},
   "outputs": [],
   "source": [
    "def division(a,b):\n",
    "    try:\n",
    "        a/b\n",
    "    except ZeroDivisionError: \n",
    "        print('Division by 0 is not defined.')\n",
    "    else: \n",
    "        print('Our division worked out great and the else clause was ran.')\n",
    "    finally: \n",
    "        print('FINALLY CLAUSE EXECUTED.')"
   ]
  },
  {
   "cell_type": "code",
   "execution_count": 118,
   "id": "f95033a9",
   "metadata": {},
   "outputs": [
    {
     "name": "stdout",
     "output_type": "stream",
     "text": [
      "Our division worked out great and the else clause was ran.\n",
      "FINALLY CLAUSE EXECUTED.\n"
     ]
    }
   ],
   "source": [
    "# No exception occured and finally clause executed.\n",
    "division(10,2)"
   ]
  },
  {
   "cell_type": "code",
   "execution_count": 119,
   "id": "b65c10f9",
   "metadata": {},
   "outputs": [
    {
     "name": "stdout",
     "output_type": "stream",
     "text": [
      "Division by 0 is not defined.\n",
      "FINALLY CLAUSE EXECUTED.\n"
     ]
    }
   ],
   "source": [
    "# Caught exception and finally clause executed.\n",
    "division(10,0)"
   ]
  },
  {
   "cell_type": "code",
   "execution_count": 120,
   "id": "d282c21c",
   "metadata": {},
   "outputs": [],
   "source": [
    "# Finally clause executed and an exception that was not caught occured.\n",
    "# division('a', 'b')"
   ]
  },
  {
   "cell_type": "markdown",
   "id": "dd5d4610",
   "metadata": {},
   "source": [
    "## Raising Exceptions\n",
    "Sometimes you want to raise exceptions, i.e. force an error to occur if a specific condition occurs."
   ]
  },
  {
   "cell_type": "code",
   "execution_count": 121,
   "id": "6b651b81",
   "metadata": {},
   "outputs": [],
   "source": [
    "x = 'Python is Awesome!' \n",
    "\n",
    "# if not type(x) == int:\n",
    "#     raise TypeError('Only integers are allowed.')"
   ]
  },
  {
   "cell_type": "markdown",
   "id": "8c74b689",
   "metadata": {},
   "source": [
    "# Chapter: NumPy\n",
    "NumPy is a library for Python that allows us to handle arrays. "
   ]
  },
  {
   "cell_type": "code",
   "execution_count": 122,
   "id": "f697c521",
   "metadata": {},
   "outputs": [],
   "source": [
    "# Importing NumPy. \n",
    "import numpy as np"
   ]
  },
  {
   "cell_type": "code",
   "execution_count": 123,
   "id": "0ecdaa6d",
   "metadata": {},
   "outputs": [
    {
     "name": "stdout",
     "output_type": "stream",
     "text": [
      "[[1 2]\n",
      " [4 5]\n",
      " [7 8]]\n",
      "\n",
      "(3, 2)\n",
      "\n",
      "<class 'numpy.ndarray'>\n"
     ]
    }
   ],
   "source": [
    "# Creating an Array.\n",
    "A = np.array([[1, 2], [4, 5], [7, 8]])\n",
    "\n",
    "print(A)\n",
    "print()\n",
    "\n",
    "print(A.shape)\n",
    "print()\n",
    "\n",
    "print(type(A))"
   ]
  },
  {
   "cell_type": "code",
   "execution_count": 124,
   "id": "a81ab520",
   "metadata": {},
   "outputs": [
    {
     "name": "stdout",
     "output_type": "stream",
     "text": [
      "27\n",
      "\n",
      "[12 15]\n",
      "\n",
      "[ 3  9 15]\n",
      "\n"
     ]
    }
   ],
   "source": [
    "# Summing elements in an array. \n",
    "\n",
    "print(A.sum())  # Sum all elements. \n",
    "print()\n",
    "\n",
    "print(A.sum(axis = 0))  # Sum across each column. \n",
    "print()\n",
    "\n",
    "print(A.sum(axis = 1))  # Sum across each row.\n",
    "print()"
   ]
  },
  {
   "cell_type": "code",
   "execution_count": 125,
   "id": "c721c258",
   "metadata": {},
   "outputs": [
    {
     "name": "stdout",
     "output_type": "stream",
     "text": [
      "[[1 2]\n",
      " [4 5]\n",
      " [7 8]]\n",
      "\n",
      "1\n",
      "\n",
      "[1 4 7]\n",
      "\n",
      "[[1 2]\n",
      " [7 8]]\n"
     ]
    }
   ],
   "source": [
    "print(A)\n",
    "print()\n",
    "\n",
    "# Indexing and Slicing. \n",
    "print(A[0, 0])  # Element in position (0, 0).\n",
    "print()\n",
    "\n",
    "print(A[:, 0])  # First column.\n",
    "print() \n",
    "\n",
    "print(A[[0, -1], :])  # First and last row."
   ]
  },
  {
   "cell_type": "markdown",
   "id": "43c40eb9",
   "metadata": {},
   "source": [
    "## Array Operations"
   ]
  },
  {
   "cell_type": "code",
   "execution_count": 126,
   "id": "c63249ff",
   "metadata": {},
   "outputs": [],
   "source": [
    "import numpy as np"
   ]
  },
  {
   "cell_type": "code",
   "execution_count": 127,
   "id": "62c04952",
   "metadata": {},
   "outputs": [
    {
     "name": "stdout",
     "output_type": "stream",
     "text": [
      "[[1 2 3]\n",
      " [4 5 6]\n",
      " [7 8 9]]\n",
      "\n",
      "[[1 1 1]\n",
      " [2 2 2]\n",
      " [3 3 3]]\n"
     ]
    }
   ],
   "source": [
    "A = np.array([[1, 2, 3], [4, 5, 6], [7, 8, 9]])\n",
    "B = np.array([[1, 1, 1], [2, 2, 2], [3, 3, 3]])\n",
    "\n",
    "print(A)\n",
    "print()\n",
    "print(B)"
   ]
  },
  {
   "cell_type": "code",
   "execution_count": 128,
   "id": "230ecb5e",
   "metadata": {},
   "outputs": [
    {
     "name": "stdout",
     "output_type": "stream",
     "text": [
      "[[0 1 2]\n",
      " [2 3 4]\n",
      " [4 5 6]]\n"
     ]
    }
   ],
   "source": [
    "# Elementwise Subtraction.\n",
    "print(A - B)"
   ]
  },
  {
   "cell_type": "code",
   "execution_count": 129,
   "id": "a752386b",
   "metadata": {},
   "outputs": [
    {
     "data": {
      "text/plain": [
       "array([[ 1,  2,  3],\n",
       "       [ 8, 10, 12],\n",
       "       [21, 24, 27]])"
      ]
     },
     "execution_count": 129,
     "metadata": {},
     "output_type": "execute_result"
    }
   ],
   "source": [
    "# Elementwise multiplication. \n",
    "A*B"
   ]
  },
  {
   "cell_type": "code",
   "execution_count": 130,
   "id": "54cd7667",
   "metadata": {},
   "outputs": [
    {
     "name": "stdout",
     "output_type": "stream",
     "text": [
      "[[14 14 14]\n",
      " [32 32 32]\n",
      " [50 50 50]]\n"
     ]
    }
   ],
   "source": [
    "# Matrix Multiplication (if you know some basic Linear Algebra).\n",
    "print(A.dot(B))"
   ]
  },
  {
   "cell_type": "markdown",
   "id": "79199db9",
   "metadata": {},
   "source": [
    "## Learn More About Numpy\n",
    "https://numpy.org/doc/stable/user/index.html"
   ]
  },
  {
   "cell_type": "markdown",
   "id": "aeced508",
   "metadata": {},
   "source": [
    "# Chapter: Matplotlib"
   ]
  },
  {
   "cell_type": "markdown",
   "id": "631b8404",
   "metadata": {},
   "source": [
    "Matplotlib is a library for creating visualizations in Python.\n",
    "\n",
    "Plotting with Matplotlib can be done in either of two ways: \n",
    "1. Object-Oriented approach. \n",
    "2. pyplot / MATLAB style. \n",
    "\n",
    "In general it is recommended to use the OO-approach, especially for more complicated plots and plots that are part of a bigger project. However the pyplot / MATLAB approach can be used for quick interactive work. Both of these styles are used in the documentation and this can be a source of confusion for beginners. Also note that when you create a figure in the OO-style, you use the pyplot submodule. \n",
    "\n",
    "Important terminology in Matplotlib are: \n",
    "* Figure: This is the whole figure and can be seen as a canvas. \n",
    "* Axes: The part of the \"canvas\" that the plot is attached on. We call methods that do the plotting directly from the Axes which gives high flexibility in customizing our plots. \n",
    "* Axis: Sets the scale and limits and generate ticks (the marks on the Axis) and ticklabels (strings labeling the ticks).\n",
    "* Artist: Basically everything visible on the figure is an artist, including figure, axes and axis. Most Artists are tied to an Axes.\n",
    "\n",
    "When plotting with Matplotlib, you should in general use numpy arrays as input or objects that can be transformed to a numpy array with the function numpy.asarray. \n",
    "\n",
    "See the descriptive figure here: https://matplotlib.org/stable/tutorials/introductory/usage.html#parts-of-a-figure which is good to have in mind when we continue to learn plotting with Matplotlib."
   ]
  },
  {
   "cell_type": "markdown",
   "id": "8f2d71eb",
   "metadata": {},
   "source": [
    "## Creating Our First Plot"
   ]
  },
  {
   "cell_type": "code",
   "execution_count": 131,
   "id": "92ed9e57",
   "metadata": {},
   "outputs": [],
   "source": [
    "# Importing the packages needed. \n",
    "import matplotlib.pyplot as plt\n",
    "import numpy as np"
   ]
  },
  {
   "cell_type": "code",
   "execution_count": 132,
   "id": "a94ec5b5",
   "metadata": {},
   "outputs": [
    {
     "data": {
      "image/png": "[encoded data removed]",
      "text/plain": [
       "<Figure size 432x288 with 1 Axes>"
      ]
     },
     "metadata": {
      "needs_background": "light"
     },
     "output_type": "display_data"
    }
   ],
   "source": [
    "# Creating a figure and axes.\n",
    "fig, ax = plt.subplots()"
   ]
  },
  {
   "cell_type": "code",
   "execution_count": 133,
   "id": "ebba41ad",
   "metadata": {},
   "outputs": [],
   "source": [
    "# Generate evenly spaced data from -4 to 4.\n",
    "x = np.linspace(-4, 4, 100)\n",
    "y = x**2"
   ]
  },
  {
   "cell_type": "code",
   "execution_count": 134,
   "id": "4533f8f8",
   "metadata": {},
   "outputs": [
    {
     "data": {
      "text/plain": [
       "[<matplotlib.lines.Line2D at 0x18c53c4ceb0>]"
      ]
     },
     "execution_count": 134,
     "metadata": {},
     "output_type": "execute_result"
    },
    {
     "data": {
      "image/png": "[encoded data removed]",
      "text/plain": [
       "<Figure size 432x288 with 1 Axes>"
      ]
     },
     "metadata": {
      "needs_background": "light"
     },
     "output_type": "display_data"
    }
   ],
   "source": [
    "# When doing the actual plot we simply call methods directly from the axes. This is the object-oriented approach. \n",
    "fig, ax = plt.subplots()\n",
    "ax.plot(x, y)"
   ]
  },
  {
   "cell_type": "markdown",
   "id": "5fedb434",
   "metadata": {},
   "source": [
    "**Doing the same plot with the Pyplot/MATLAB appraoch.**"
   ]
  },
  {
   "cell_type": "code",
   "execution_count": 135,
   "id": "97ff66e1",
   "metadata": {},
   "outputs": [
    {
     "data": {
      "text/plain": [
       "[<matplotlib.lines.Line2D at 0x18c53cbcd60>]"
      ]
     },
     "execution_count": 135,
     "metadata": {},
     "output_type": "execute_result"
    },
    {
     "data": {
      "image/png": "[encoded data removed]",
      "text/plain": [
       "<Figure size 432x288 with 1 Axes>"
      ]
     },
     "metadata": {
      "needs_background": "light"
     },
     "output_type": "display_data"
    }
   ],
   "source": [
    "# Notice that we use the pyplot (aliased as plt) submodule in both approaches. \n",
    "# Less code in this example suitable for quick interactive work, but in general use the OO-approach. \n",
    "plt.plot(x, y)"
   ]
  },
  {
   "cell_type": "markdown",
   "id": "165e0946",
   "metadata": {},
   "source": [
    "## More Advanced Plots"
   ]
  },
  {
   "cell_type": "code",
   "execution_count": 136,
   "id": "a6d9f8b4",
   "metadata": {},
   "outputs": [],
   "source": [
    "import matplotlib.pyplot as plt\n",
    "import numpy as np"
   ]
  },
  {
   "cell_type": "code",
   "execution_count": 137,
   "id": "d50567d1",
   "metadata": {},
   "outputs": [],
   "source": [
    "# Generate data.\n",
    "x = np.linspace(-2, 2, 100)\n",
    "y = x**2"
   ]
  },
  {
   "cell_type": "code",
   "execution_count": 138,
   "id": "96379ba7",
   "metadata": {},
   "outputs": [
    {
     "data": {
      "image/png": "[encoded data removed]",
      "text/plain": [
       "<Figure size 432x288 with 1 Axes>"
      ]
     },
     "metadata": {
      "needs_background": "light"
     },
     "output_type": "display_data"
    }
   ],
   "source": [
    "fig, ax = plt.subplots()\n",
    "ax.plot(x, y, 'b:', label = 'quadratic')\n",
    "ax.plot(x, x, 'g--', label ='linear')\n",
    "\n",
    "ax.set_xlabel('x label')\n",
    "ax.set_ylabel('y label')\n",
    "ax.set_title(\"Our Plot\")\n",
    "ax.legend();"
   ]
  },
  {
   "cell_type": "code",
   "execution_count": 139,
   "id": "2f3042f9",
   "metadata": {},
   "outputs": [
    {
     "data": {
      "image/png": "[encoded data removed]",
      "text/plain": [
       "<Figure size 432x288 with 1 Axes>"
      ]
     },
     "metadata": {
      "needs_background": "light"
     },
     "output_type": "display_data"
    }
   ],
   "source": [
    "# Same plot in the Pyplot/MATLAB Approach.\n",
    "plt.plot(x, y, 'b:', label = 'quadratic')\n",
    "plt.plot(x, x, 'g--', label ='linear')\n",
    "plt.xlabel('x label')\n",
    "plt.ylabel('y label')\n",
    "plt.title(\"Our Plot\")\n",
    "plt.legend();"
   ]
  },
  {
   "cell_type": "code",
   "execution_count": 140,
   "id": "ae0d314a",
   "metadata": {},
   "outputs": [
    {
     "data": {
      "image/png": "[encoded data removed]",
      "text/plain": [
       "<Figure size 720x360 with 1 Axes>"
      ]
     },
     "metadata": {
      "needs_background": "light"
     },
     "output_type": "display_data"
    }
   ],
   "source": [
    "# Adding arrows and changing figsize.\n",
    "fig, ax = plt.subplots(figsize = (10,5))\n",
    "ax.plot(x, y, 'b:', label = 'quadrativc')\n",
    "ax.plot(x, x, 'g-', label ='linear')\n",
    "\n",
    "ax.annotate('first intersection', xy=(0, 0), xytext=(0.4, 2.5),\n",
    "            arrowprops=dict(facecolor='black', shrink=0.05))\n",
    "ax.annotate('second intersection', xy=(1, 1), xytext=(1, -1),\n",
    "            arrowprops=dict(facecolor='black', shrink=0.05))\n",
    "\n",
    "ax.set_xlabel('x label')\n",
    "ax.set_ylabel('y label')\n",
    "ax.set_title(\"Our Plot\")\n",
    "ax.legend();"
   ]
  },
  {
   "cell_type": "markdown",
   "id": "dfb943f0",
   "metadata": {},
   "source": [
    "## Subplots and Different Plot Types"
   ]
  },
  {
   "cell_type": "code",
   "execution_count": 141,
   "id": "97899cb7",
   "metadata": {},
   "outputs": [],
   "source": [
    "import matplotlib.pyplot as plt\n",
    "import numpy as np"
   ]
  },
  {
   "cell_type": "code",
   "execution_count": 142,
   "id": "b1d40cf7",
   "metadata": {},
   "outputs": [
    {
     "data": {
      "text/plain": [
       "Text(0.5, 1.0, 'Histogram')"
      ]
     },
     "execution_count": 142,
     "metadata": {},
     "output_type": "execute_result"
    },
    {
     "data": {
      "image/png": "[encoded data removed]",
      "text/plain": [
       "<Figure size 864x576 with 4 Axes>"
      ]
     },
     "metadata": {
      "needs_background": "light"
     },
     "output_type": "display_data"
    }
   ],
   "source": [
    "# Generating data.\n",
    "np.random.seed(15)\n",
    "random_data_x = np.random.randn(1000)\n",
    "random_data_y = np.random.randn(1000)\n",
    "x = np.linspace(-2, 2, 100)\n",
    "y = x**2\n",
    "\n",
    "fruit_data = {'grapes': 22, 'apple': 8, 'orange': 15, 'lemon': 20, 'lime': 25}\n",
    "names = list(fruit_data.keys())\n",
    "values = list(fruit_data.values())\n",
    "\n",
    "# Creating Subplots.\n",
    "fig, axs = plt.subplots(2, 2, figsize = (12, 8), layout='constrained')\n",
    "fig.suptitle('Different Plots', size = 30)\n",
    "\n",
    "axs[0, 0].plot(x, y)\n",
    "axs[0, 0].set_title('Line Plot')\n",
    "\n",
    "axs[0, 1].scatter(random_data_x, random_data_y)\n",
    "axs[0, 1].set_title('Scatter Plot')\n",
    "\n",
    "axs[1, 0].bar(names, values)\n",
    "axs[1, 0].set_title('Bar Plot')\n",
    "\n",
    "axs[1, 1].hist(random_data_x, bins = 20)\n",
    "axs[1, 1].set_title('Histogram')"
   ]
  },
  {
   "cell_type": "markdown",
   "id": "f467b654",
   "metadata": {},
   "source": [
    "# Learn More About Matplotlib\n",
    "Check the tutorials at the website of Matplotlib:\n",
    "https://matplotlib.org/stable/index.html"
   ]
  },
  {
   "cell_type": "markdown",
   "id": "81ac6c9f",
   "metadata": {},
   "source": [
    "# Chapter: Pandas\n",
    "When working with tabular data, such as data stored in spreadsheets or databases, Pandas is a powerful library to use. In Pandas, a data table is called a dataframe. "
   ]
  },
  {
   "cell_type": "code",
   "execution_count": 143,
   "id": "134d7699",
   "metadata": {},
   "outputs": [],
   "source": [
    "# Importing Pandas. \n",
    "import pandas as pd"
   ]
  },
  {
   "cell_type": "code",
   "execution_count": 144,
   "id": "d3a6adc4",
   "metadata": {},
   "outputs": [],
   "source": [
    "# Importing data from an excel file.\n",
    "# I have the data set in the same folder as my script, hence we do not need any path for reading in the data. \n",
    "students = pd.read_excel(\"students_data.xlsx\", \"Sheet1\")"
   ]
  },
  {
   "cell_type": "code",
   "execution_count": 145,
   "id": "7ce95f66",
   "metadata": {},
   "outputs": [
    {
     "data": {
      "text/html": [
       "<div>\n",
       "<style scoped>\n",
       "    .dataframe tbody tr th:only-of-type {\n",
       "        vertical-align: middle;\n",
       "    }\n",
       "\n",
       "    .dataframe tbody tr th {\n",
       "        vertical-align: top;\n",
       "    }\n",
       "\n",
       "    .dataframe thead th {\n",
       "        text-align: right;\n",
       "    }\n",
       "</style>\n",
       "<table border=\"1\" class=\"dataframe\">\n",
       "  <thead>\n",
       "    <tr style=\"text-align: right;\">\n",
       "      <th></th>\n",
       "      <th>name</th>\n",
       "      <th>math_grade</th>\n",
       "      <th>english_grade</th>\n",
       "      <th>programming_grade</th>\n",
       "    </tr>\n",
       "  </thead>\n",
       "  <tbody>\n",
       "    <tr>\n",
       "      <th>0</th>\n",
       "      <td>Lena</td>\n",
       "      <td>2.0</td>\n",
       "      <td>3.0</td>\n",
       "      <td>5.0</td>\n",
       "    </tr>\n",
       "    <tr>\n",
       "      <th>1</th>\n",
       "      <td>David</td>\n",
       "      <td>NaN</td>\n",
       "      <td>NaN</td>\n",
       "      <td>NaN</td>\n",
       "    </tr>\n",
       "    <tr>\n",
       "      <th>2</th>\n",
       "      <td>Ryan</td>\n",
       "      <td>NaN</td>\n",
       "      <td>NaN</td>\n",
       "      <td>NaN</td>\n",
       "    </tr>\n",
       "    <tr>\n",
       "      <th>3</th>\n",
       "      <td>Kim</td>\n",
       "      <td>1.0</td>\n",
       "      <td>4.0</td>\n",
       "      <td>NaN</td>\n",
       "    </tr>\n",
       "    <tr>\n",
       "      <th>4</th>\n",
       "      <td>Anna</td>\n",
       "      <td>5.0</td>\n",
       "      <td>NaN</td>\n",
       "      <td>5.0</td>\n",
       "    </tr>\n",
       "    <tr>\n",
       "      <th>5</th>\n",
       "      <td>Hanna</td>\n",
       "      <td>5.0</td>\n",
       "      <td>5.0</td>\n",
       "      <td>5.0</td>\n",
       "    </tr>\n",
       "    <tr>\n",
       "      <th>6</th>\n",
       "      <td>Joe</td>\n",
       "      <td>1.0</td>\n",
       "      <td>NaN</td>\n",
       "      <td>3.0</td>\n",
       "    </tr>\n",
       "    <tr>\n",
       "      <th>7</th>\n",
       "      <td>Lee</td>\n",
       "      <td>3.0</td>\n",
       "      <td>4.0</td>\n",
       "      <td>2.0</td>\n",
       "    </tr>\n",
       "    <tr>\n",
       "      <th>8</th>\n",
       "      <td>Jack</td>\n",
       "      <td>NaN</td>\n",
       "      <td>5.0</td>\n",
       "      <td>NaN</td>\n",
       "    </tr>\n",
       "    <tr>\n",
       "      <th>9</th>\n",
       "      <td>Jackie</td>\n",
       "      <td>3.0</td>\n",
       "      <td>3.0</td>\n",
       "      <td>3.0</td>\n",
       "    </tr>\n",
       "    <tr>\n",
       "      <th>10</th>\n",
       "      <td>Ashley</td>\n",
       "      <td>NaN</td>\n",
       "      <td>NaN</td>\n",
       "      <td>NaN</td>\n",
       "    </tr>\n",
       "    <tr>\n",
       "      <th>11</th>\n",
       "      <td>Marcus</td>\n",
       "      <td>4.0</td>\n",
       "      <td>NaN</td>\n",
       "      <td>4.0</td>\n",
       "    </tr>\n",
       "    <tr>\n",
       "      <th>12</th>\n",
       "      <td>Harry</td>\n",
       "      <td>5.0</td>\n",
       "      <td>3.0</td>\n",
       "      <td>5.0</td>\n",
       "    </tr>\n",
       "    <tr>\n",
       "      <th>13</th>\n",
       "      <td>Nicole</td>\n",
       "      <td>4.0</td>\n",
       "      <td>NaN</td>\n",
       "      <td>NaN</td>\n",
       "    </tr>\n",
       "    <tr>\n",
       "      <th>14</th>\n",
       "      <td>Phillip</td>\n",
       "      <td>NaN</td>\n",
       "      <td>3.0</td>\n",
       "      <td>3.0</td>\n",
       "    </tr>\n",
       "    <tr>\n",
       "      <th>15</th>\n",
       "      <td>Victoria</td>\n",
       "      <td>2.0</td>\n",
       "      <td>5.0</td>\n",
       "      <td>2.0</td>\n",
       "    </tr>\n",
       "  </tbody>\n",
       "</table>\n",
       "</div>"
      ],
      "text/plain": [
       "        name  math_grade  english_grade  programming_grade\n",
       "0       Lena         2.0            3.0                5.0\n",
       "1      David         NaN            NaN                NaN\n",
       "2       Ryan         NaN            NaN                NaN\n",
       "3        Kim         1.0            4.0                NaN\n",
       "4       Anna         5.0            NaN                5.0\n",
       "5      Hanna         5.0            5.0                5.0\n",
       "6        Joe         1.0            NaN                3.0\n",
       "7        Lee         3.0            4.0                2.0\n",
       "8       Jack         NaN            5.0                NaN\n",
       "9     Jackie         3.0            3.0                3.0\n",
       "10    Ashley         NaN            NaN                NaN\n",
       "11    Marcus         4.0            NaN                4.0\n",
       "12     Harry         5.0            3.0                5.0\n",
       "13    Nicole         4.0            NaN                NaN\n",
       "14   Phillip         NaN            3.0                3.0\n",
       "15  Victoria         2.0            5.0                2.0"
      ]
     },
     "execution_count": 145,
     "metadata": {},
     "output_type": "execute_result"
    }
   ],
   "source": [
    "students"
   ]
  },
  {
   "cell_type": "markdown",
   "id": "487b3991",
   "metadata": {},
   "source": [
    "## Inspecting Our Data"
   ]
  },
  {
   "cell_type": "code",
   "execution_count": 146,
   "id": "9a588ee0",
   "metadata": {},
   "outputs": [],
   "source": [
    "# Importing Pandas. \n",
    "import pandas as pd\n",
    "\n",
    "# Loading our data. \n",
    "students = pd.read_excel(\"students_data.xlsx\", \"Sheet1\")"
   ]
  },
  {
   "cell_type": "code",
   "execution_count": 147,
   "id": "bf5fe6f0",
   "metadata": {},
   "outputs": [
    {
     "name": "stdout",
     "output_type": "stream",
     "text": [
      "<class 'pandas.core.frame.DataFrame'>\n",
      "RangeIndex: 16 entries, 0 to 15\n",
      "Data columns (total 4 columns):\n",
      " #   Column             Non-Null Count  Dtype  \n",
      "---  ------             --------------  -----  \n",
      " 0   name               16 non-null     object \n",
      " 1   math_grade         11 non-null     float64\n",
      " 2   english_grade      9 non-null      float64\n",
      " 3   programming_grade  10 non-null     float64\n",
      "dtypes: float64(3), object(1)\n",
      "memory usage: 640.0+ bytes\n"
     ]
    }
   ],
   "source": [
    "students.info()"
   ]
  },
  {
   "cell_type": "code",
   "execution_count": 148,
   "id": "519c2bce",
   "metadata": {},
   "outputs": [
    {
     "data": {
      "text/html": [
       "<div>\n",
       "<style scoped>\n",
       "    .dataframe tbody tr th:only-of-type {\n",
       "        vertical-align: middle;\n",
       "    }\n",
       "\n",
       "    .dataframe tbody tr th {\n",
       "        vertical-align: top;\n",
       "    }\n",
       "\n",
       "    .dataframe thead th {\n",
       "        text-align: right;\n",
       "    }\n",
       "</style>\n",
       "<table border=\"1\" class=\"dataframe\">\n",
       "  <thead>\n",
       "    <tr style=\"text-align: right;\">\n",
       "      <th></th>\n",
       "      <th>name</th>\n",
       "      <th>math_grade</th>\n",
       "      <th>english_grade</th>\n",
       "      <th>programming_grade</th>\n",
       "    </tr>\n",
       "  </thead>\n",
       "  <tbody>\n",
       "    <tr>\n",
       "      <th>0</th>\n",
       "      <td>Lena</td>\n",
       "      <td>2.0</td>\n",
       "      <td>3.0</td>\n",
       "      <td>5.0</td>\n",
       "    </tr>\n",
       "    <tr>\n",
       "      <th>1</th>\n",
       "      <td>David</td>\n",
       "      <td>NaN</td>\n",
       "      <td>NaN</td>\n",
       "      <td>NaN</td>\n",
       "    </tr>\n",
       "  </tbody>\n",
       "</table>\n",
       "</div>"
      ],
      "text/plain": [
       "    name  math_grade  english_grade  programming_grade\n",
       "0   Lena         2.0            3.0                5.0\n",
       "1  David         NaN            NaN                NaN"
      ]
     },
     "execution_count": 148,
     "metadata": {},
     "output_type": "execute_result"
    }
   ],
   "source": [
    "# Get the first n = 5 rows by default. \n",
    "students.head(n=2)"
   ]
  },
  {
   "cell_type": "code",
   "execution_count": 149,
   "id": "96bb0c24",
   "metadata": {},
   "outputs": [
    {
     "data": {
      "text/html": [
       "<div>\n",
       "<style scoped>\n",
       "    .dataframe tbody tr th:only-of-type {\n",
       "        vertical-align: middle;\n",
       "    }\n",
       "\n",
       "    .dataframe tbody tr th {\n",
       "        vertical-align: top;\n",
       "    }\n",
       "\n",
       "    .dataframe thead th {\n",
       "        text-align: right;\n",
       "    }\n",
       "</style>\n",
       "<table border=\"1\" class=\"dataframe\">\n",
       "  <thead>\n",
       "    <tr style=\"text-align: right;\">\n",
       "      <th></th>\n",
       "      <th>math_grade</th>\n",
       "      <th>english_grade</th>\n",
       "      <th>programming_grade</th>\n",
       "    </tr>\n",
       "  </thead>\n",
       "  <tbody>\n",
       "    <tr>\n",
       "      <th>count</th>\n",
       "      <td>11.000000</td>\n",
       "      <td>9.000000</td>\n",
       "      <td>10.000000</td>\n",
       "    </tr>\n",
       "    <tr>\n",
       "      <th>mean</th>\n",
       "      <td>3.181818</td>\n",
       "      <td>3.888889</td>\n",
       "      <td>3.700000</td>\n",
       "    </tr>\n",
       "    <tr>\n",
       "      <th>std</th>\n",
       "      <td>1.537412</td>\n",
       "      <td>0.927961</td>\n",
       "      <td>1.251666</td>\n",
       "    </tr>\n",
       "    <tr>\n",
       "      <th>min</th>\n",
       "      <td>1.000000</td>\n",
       "      <td>3.000000</td>\n",
       "      <td>2.000000</td>\n",
       "    </tr>\n",
       "    <tr>\n",
       "      <th>25%</th>\n",
       "      <td>2.000000</td>\n",
       "      <td>3.000000</td>\n",
       "      <td>3.000000</td>\n",
       "    </tr>\n",
       "    <tr>\n",
       "      <th>50%</th>\n",
       "      <td>3.000000</td>\n",
       "      <td>4.000000</td>\n",
       "      <td>3.500000</td>\n",
       "    </tr>\n",
       "    <tr>\n",
       "      <th>75%</th>\n",
       "      <td>4.500000</td>\n",
       "      <td>5.000000</td>\n",
       "      <td>5.000000</td>\n",
       "    </tr>\n",
       "    <tr>\n",
       "      <th>max</th>\n",
       "      <td>5.000000</td>\n",
       "      <td>5.000000</td>\n",
       "      <td>5.000000</td>\n",
       "    </tr>\n",
       "  </tbody>\n",
       "</table>\n",
       "</div>"
      ],
      "text/plain": [
       "       math_grade  english_grade  programming_grade\n",
       "count   11.000000       9.000000          10.000000\n",
       "mean     3.181818       3.888889           3.700000\n",
       "std      1.537412       0.927961           1.251666\n",
       "min      1.000000       3.000000           2.000000\n",
       "25%      2.000000       3.000000           3.000000\n",
       "50%      3.000000       4.000000           3.500000\n",
       "75%      4.500000       5.000000           5.000000\n",
       "max      5.000000       5.000000           5.000000"
      ]
     },
     "execution_count": 149,
     "metadata": {},
     "output_type": "execute_result"
    }
   ],
   "source": [
    "# Generate some descriptive statistics. NaN values are not included in the calculations. \n",
    "students.describe()"
   ]
  },
  {
   "cell_type": "markdown",
   "id": "3dfd3a4d",
   "metadata": {},
   "source": [
    "## Sorting Data & Inplace Operations"
   ]
  },
  {
   "cell_type": "code",
   "execution_count": 150,
   "id": "20fee718",
   "metadata": {},
   "outputs": [],
   "source": [
    "# Importing Pandas. \n",
    "import pandas as pd\n",
    "\n",
    "# Loading our data. \n",
    "students = pd.read_excel(\"students_data.xlsx\", \"Sheet1\")"
   ]
  },
  {
   "cell_type": "code",
   "execution_count": 151,
   "id": "10578024",
   "metadata": {},
   "outputs": [
    {
     "data": {
      "text/html": [
       "<div>\n",
       "<style scoped>\n",
       "    .dataframe tbody tr th:only-of-type {\n",
       "        vertical-align: middle;\n",
       "    }\n",
       "\n",
       "    .dataframe tbody tr th {\n",
       "        vertical-align: top;\n",
       "    }\n",
       "\n",
       "    .dataframe thead th {\n",
       "        text-align: right;\n",
       "    }\n",
       "</style>\n",
       "<table border=\"1\" class=\"dataframe\">\n",
       "  <thead>\n",
       "    <tr style=\"text-align: right;\">\n",
       "      <th></th>\n",
       "      <th>name</th>\n",
       "      <th>math_grade</th>\n",
       "      <th>english_grade</th>\n",
       "      <th>programming_grade</th>\n",
       "    </tr>\n",
       "  </thead>\n",
       "  <tbody>\n",
       "    <tr>\n",
       "      <th>4</th>\n",
       "      <td>Anna</td>\n",
       "      <td>5.0</td>\n",
       "      <td>NaN</td>\n",
       "      <td>5.0</td>\n",
       "    </tr>\n",
       "    <tr>\n",
       "      <th>10</th>\n",
       "      <td>Ashley</td>\n",
       "      <td>NaN</td>\n",
       "      <td>NaN</td>\n",
       "      <td>NaN</td>\n",
       "    </tr>\n",
       "    <tr>\n",
       "      <th>1</th>\n",
       "      <td>David</td>\n",
       "      <td>NaN</td>\n",
       "      <td>NaN</td>\n",
       "      <td>NaN</td>\n",
       "    </tr>\n",
       "    <tr>\n",
       "      <th>5</th>\n",
       "      <td>Hanna</td>\n",
       "      <td>5.0</td>\n",
       "      <td>5.0</td>\n",
       "      <td>5.0</td>\n",
       "    </tr>\n",
       "    <tr>\n",
       "      <th>12</th>\n",
       "      <td>Harry</td>\n",
       "      <td>5.0</td>\n",
       "      <td>3.0</td>\n",
       "      <td>5.0</td>\n",
       "    </tr>\n",
       "    <tr>\n",
       "      <th>8</th>\n",
       "      <td>Jack</td>\n",
       "      <td>NaN</td>\n",
       "      <td>5.0</td>\n",
       "      <td>NaN</td>\n",
       "    </tr>\n",
       "    <tr>\n",
       "      <th>9</th>\n",
       "      <td>Jackie</td>\n",
       "      <td>3.0</td>\n",
       "      <td>3.0</td>\n",
       "      <td>3.0</td>\n",
       "    </tr>\n",
       "    <tr>\n",
       "      <th>6</th>\n",
       "      <td>Joe</td>\n",
       "      <td>1.0</td>\n",
       "      <td>NaN</td>\n",
       "      <td>3.0</td>\n",
       "    </tr>\n",
       "    <tr>\n",
       "      <th>3</th>\n",
       "      <td>Kim</td>\n",
       "      <td>1.0</td>\n",
       "      <td>4.0</td>\n",
       "      <td>NaN</td>\n",
       "    </tr>\n",
       "    <tr>\n",
       "      <th>7</th>\n",
       "      <td>Lee</td>\n",
       "      <td>3.0</td>\n",
       "      <td>4.0</td>\n",
       "      <td>2.0</td>\n",
       "    </tr>\n",
       "    <tr>\n",
       "      <th>0</th>\n",
       "      <td>Lena</td>\n",
       "      <td>2.0</td>\n",
       "      <td>3.0</td>\n",
       "      <td>5.0</td>\n",
       "    </tr>\n",
       "    <tr>\n",
       "      <th>11</th>\n",
       "      <td>Marcus</td>\n",
       "      <td>4.0</td>\n",
       "      <td>NaN</td>\n",
       "      <td>4.0</td>\n",
       "    </tr>\n",
       "    <tr>\n",
       "      <th>13</th>\n",
       "      <td>Nicole</td>\n",
       "      <td>4.0</td>\n",
       "      <td>NaN</td>\n",
       "      <td>NaN</td>\n",
       "    </tr>\n",
       "    <tr>\n",
       "      <th>14</th>\n",
       "      <td>Phillip</td>\n",
       "      <td>NaN</td>\n",
       "      <td>3.0</td>\n",
       "      <td>3.0</td>\n",
       "    </tr>\n",
       "    <tr>\n",
       "      <th>2</th>\n",
       "      <td>Ryan</td>\n",
       "      <td>NaN</td>\n",
       "      <td>NaN</td>\n",
       "      <td>NaN</td>\n",
       "    </tr>\n",
       "    <tr>\n",
       "      <th>15</th>\n",
       "      <td>Victoria</td>\n",
       "      <td>2.0</td>\n",
       "      <td>5.0</td>\n",
       "      <td>2.0</td>\n",
       "    </tr>\n",
       "  </tbody>\n",
       "</table>\n",
       "</div>"
      ],
      "text/plain": [
       "        name  math_grade  english_grade  programming_grade\n",
       "4       Anna         5.0            NaN                5.0\n",
       "10    Ashley         NaN            NaN                NaN\n",
       "1      David         NaN            NaN                NaN\n",
       "5      Hanna         5.0            5.0                5.0\n",
       "12     Harry         5.0            3.0                5.0\n",
       "8       Jack         NaN            5.0                NaN\n",
       "9     Jackie         3.0            3.0                3.0\n",
       "6        Joe         1.0            NaN                3.0\n",
       "3        Kim         1.0            4.0                NaN\n",
       "7        Lee         3.0            4.0                2.0\n",
       "0       Lena         2.0            3.0                5.0\n",
       "11    Marcus         4.0            NaN                4.0\n",
       "13    Nicole         4.0            NaN                NaN\n",
       "14   Phillip         NaN            3.0                3.0\n",
       "2       Ryan         NaN            NaN                NaN\n",
       "15  Victoria         2.0            5.0                2.0"
      ]
     },
     "execution_count": 151,
     "metadata": {},
     "output_type": "execute_result"
    }
   ],
   "source": [
    "# Sorting the students data by name.\n",
    "students.sort_values(by=\"name\")"
   ]
  },
  {
   "cell_type": "code",
   "execution_count": 152,
   "id": "b793956e",
   "metadata": {},
   "outputs": [
    {
     "data": {
      "text/html": [
       "<div>\n",
       "<style scoped>\n",
       "    .dataframe tbody tr th:only-of-type {\n",
       "        vertical-align: middle;\n",
       "    }\n",
       "\n",
       "    .dataframe tbody tr th {\n",
       "        vertical-align: top;\n",
       "    }\n",
       "\n",
       "    .dataframe thead th {\n",
       "        text-align: right;\n",
       "    }\n",
       "</style>\n",
       "<table border=\"1\" class=\"dataframe\">\n",
       "  <thead>\n",
       "    <tr style=\"text-align: right;\">\n",
       "      <th></th>\n",
       "      <th>name</th>\n",
       "      <th>math_grade</th>\n",
       "      <th>english_grade</th>\n",
       "      <th>programming_grade</th>\n",
       "    </tr>\n",
       "  </thead>\n",
       "  <tbody>\n",
       "    <tr>\n",
       "      <th>0</th>\n",
       "      <td>Lena</td>\n",
       "      <td>2.0</td>\n",
       "      <td>3.0</td>\n",
       "      <td>5.0</td>\n",
       "    </tr>\n",
       "    <tr>\n",
       "      <th>1</th>\n",
       "      <td>David</td>\n",
       "      <td>NaN</td>\n",
       "      <td>NaN</td>\n",
       "      <td>NaN</td>\n",
       "    </tr>\n",
       "    <tr>\n",
       "      <th>2</th>\n",
       "      <td>Ryan</td>\n",
       "      <td>NaN</td>\n",
       "      <td>NaN</td>\n",
       "      <td>NaN</td>\n",
       "    </tr>\n",
       "    <tr>\n",
       "      <th>3</th>\n",
       "      <td>Kim</td>\n",
       "      <td>1.0</td>\n",
       "      <td>4.0</td>\n",
       "      <td>NaN</td>\n",
       "    </tr>\n",
       "    <tr>\n",
       "      <th>4</th>\n",
       "      <td>Anna</td>\n",
       "      <td>5.0</td>\n",
       "      <td>NaN</td>\n",
       "      <td>5.0</td>\n",
       "    </tr>\n",
       "    <tr>\n",
       "      <th>5</th>\n",
       "      <td>Hanna</td>\n",
       "      <td>5.0</td>\n",
       "      <td>5.0</td>\n",
       "      <td>5.0</td>\n",
       "    </tr>\n",
       "    <tr>\n",
       "      <th>6</th>\n",
       "      <td>Joe</td>\n",
       "      <td>1.0</td>\n",
       "      <td>NaN</td>\n",
       "      <td>3.0</td>\n",
       "    </tr>\n",
       "    <tr>\n",
       "      <th>7</th>\n",
       "      <td>Lee</td>\n",
       "      <td>3.0</td>\n",
       "      <td>4.0</td>\n",
       "      <td>2.0</td>\n",
       "    </tr>\n",
       "    <tr>\n",
       "      <th>8</th>\n",
       "      <td>Jack</td>\n",
       "      <td>NaN</td>\n",
       "      <td>5.0</td>\n",
       "      <td>NaN</td>\n",
       "    </tr>\n",
       "    <tr>\n",
       "      <th>9</th>\n",
       "      <td>Jackie</td>\n",
       "      <td>3.0</td>\n",
       "      <td>3.0</td>\n",
       "      <td>3.0</td>\n",
       "    </tr>\n",
       "    <tr>\n",
       "      <th>10</th>\n",
       "      <td>Ashley</td>\n",
       "      <td>NaN</td>\n",
       "      <td>NaN</td>\n",
       "      <td>NaN</td>\n",
       "    </tr>\n",
       "    <tr>\n",
       "      <th>11</th>\n",
       "      <td>Marcus</td>\n",
       "      <td>4.0</td>\n",
       "      <td>NaN</td>\n",
       "      <td>4.0</td>\n",
       "    </tr>\n",
       "    <tr>\n",
       "      <th>12</th>\n",
       "      <td>Harry</td>\n",
       "      <td>5.0</td>\n",
       "      <td>3.0</td>\n",
       "      <td>5.0</td>\n",
       "    </tr>\n",
       "    <tr>\n",
       "      <th>13</th>\n",
       "      <td>Nicole</td>\n",
       "      <td>4.0</td>\n",
       "      <td>NaN</td>\n",
       "      <td>NaN</td>\n",
       "    </tr>\n",
       "    <tr>\n",
       "      <th>14</th>\n",
       "      <td>Phillip</td>\n",
       "      <td>NaN</td>\n",
       "      <td>3.0</td>\n",
       "      <td>3.0</td>\n",
       "    </tr>\n",
       "    <tr>\n",
       "      <th>15</th>\n",
       "      <td>Victoria</td>\n",
       "      <td>2.0</td>\n",
       "      <td>5.0</td>\n",
       "      <td>2.0</td>\n",
       "    </tr>\n",
       "  </tbody>\n",
       "</table>\n",
       "</div>"
      ],
      "text/plain": [
       "        name  math_grade  english_grade  programming_grade\n",
       "0       Lena         2.0            3.0                5.0\n",
       "1      David         NaN            NaN                NaN\n",
       "2       Ryan         NaN            NaN                NaN\n",
       "3        Kim         1.0            4.0                NaN\n",
       "4       Anna         5.0            NaN                5.0\n",
       "5      Hanna         5.0            5.0                5.0\n",
       "6        Joe         1.0            NaN                3.0\n",
       "7        Lee         3.0            4.0                2.0\n",
       "8       Jack         NaN            5.0                NaN\n",
       "9     Jackie         3.0            3.0                3.0\n",
       "10    Ashley         NaN            NaN                NaN\n",
       "11    Marcus         4.0            NaN                4.0\n",
       "12     Harry         5.0            3.0                5.0\n",
       "13    Nicole         4.0            NaN                NaN\n",
       "14   Phillip         NaN            3.0                3.0\n",
       "15  Victoria         2.0            5.0                2.0"
      ]
     },
     "execution_count": 152,
     "metadata": {},
     "output_type": "execute_result"
    }
   ],
   "source": [
    "# The original data itself has not been sorted. \n",
    "# If you would like to perform the operation in-place, then set the option inplace = True. \n",
    "students"
   ]
  },
  {
   "cell_type": "code",
   "execution_count": 153,
   "id": "7ff6d11f",
   "metadata": {},
   "outputs": [],
   "source": [
    "students.sort_values(by=\"name\", inplace = True)"
   ]
  },
  {
   "cell_type": "code",
   "execution_count": 154,
   "id": "3070c1b6",
   "metadata": {},
   "outputs": [
    {
     "data": {
      "text/html": [
       "<div>\n",
       "<style scoped>\n",
       "    .dataframe tbody tr th:only-of-type {\n",
       "        vertical-align: middle;\n",
       "    }\n",
       "\n",
       "    .dataframe tbody tr th {\n",
       "        vertical-align: top;\n",
       "    }\n",
       "\n",
       "    .dataframe thead th {\n",
       "        text-align: right;\n",
       "    }\n",
       "</style>\n",
       "<table border=\"1\" class=\"dataframe\">\n",
       "  <thead>\n",
       "    <tr style=\"text-align: right;\">\n",
       "      <th></th>\n",
       "      <th>name</th>\n",
       "      <th>math_grade</th>\n",
       "      <th>english_grade</th>\n",
       "      <th>programming_grade</th>\n",
       "    </tr>\n",
       "  </thead>\n",
       "  <tbody>\n",
       "    <tr>\n",
       "      <th>4</th>\n",
       "      <td>Anna</td>\n",
       "      <td>5.0</td>\n",
       "      <td>NaN</td>\n",
       "      <td>5.0</td>\n",
       "    </tr>\n",
       "    <tr>\n",
       "      <th>10</th>\n",
       "      <td>Ashley</td>\n",
       "      <td>NaN</td>\n",
       "      <td>NaN</td>\n",
       "      <td>NaN</td>\n",
       "    </tr>\n",
       "    <tr>\n",
       "      <th>1</th>\n",
       "      <td>David</td>\n",
       "      <td>NaN</td>\n",
       "      <td>NaN</td>\n",
       "      <td>NaN</td>\n",
       "    </tr>\n",
       "    <tr>\n",
       "      <th>5</th>\n",
       "      <td>Hanna</td>\n",
       "      <td>5.0</td>\n",
       "      <td>5.0</td>\n",
       "      <td>5.0</td>\n",
       "    </tr>\n",
       "    <tr>\n",
       "      <th>12</th>\n",
       "      <td>Harry</td>\n",
       "      <td>5.0</td>\n",
       "      <td>3.0</td>\n",
       "      <td>5.0</td>\n",
       "    </tr>\n",
       "    <tr>\n",
       "      <th>8</th>\n",
       "      <td>Jack</td>\n",
       "      <td>NaN</td>\n",
       "      <td>5.0</td>\n",
       "      <td>NaN</td>\n",
       "    </tr>\n",
       "    <tr>\n",
       "      <th>9</th>\n",
       "      <td>Jackie</td>\n",
       "      <td>3.0</td>\n",
       "      <td>3.0</td>\n",
       "      <td>3.0</td>\n",
       "    </tr>\n",
       "    <tr>\n",
       "      <th>6</th>\n",
       "      <td>Joe</td>\n",
       "      <td>1.0</td>\n",
       "      <td>NaN</td>\n",
       "      <td>3.0</td>\n",
       "    </tr>\n",
       "    <tr>\n",
       "      <th>3</th>\n",
       "      <td>Kim</td>\n",
       "      <td>1.0</td>\n",
       "      <td>4.0</td>\n",
       "      <td>NaN</td>\n",
       "    </tr>\n",
       "    <tr>\n",
       "      <th>7</th>\n",
       "      <td>Lee</td>\n",
       "      <td>3.0</td>\n",
       "      <td>4.0</td>\n",
       "      <td>2.0</td>\n",
       "    </tr>\n",
       "    <tr>\n",
       "      <th>0</th>\n",
       "      <td>Lena</td>\n",
       "      <td>2.0</td>\n",
       "      <td>3.0</td>\n",
       "      <td>5.0</td>\n",
       "    </tr>\n",
       "    <tr>\n",
       "      <th>11</th>\n",
       "      <td>Marcus</td>\n",
       "      <td>4.0</td>\n",
       "      <td>NaN</td>\n",
       "      <td>4.0</td>\n",
       "    </tr>\n",
       "    <tr>\n",
       "      <th>13</th>\n",
       "      <td>Nicole</td>\n",
       "      <td>4.0</td>\n",
       "      <td>NaN</td>\n",
       "      <td>NaN</td>\n",
       "    </tr>\n",
       "    <tr>\n",
       "      <th>14</th>\n",
       "      <td>Phillip</td>\n",
       "      <td>NaN</td>\n",
       "      <td>3.0</td>\n",
       "      <td>3.0</td>\n",
       "    </tr>\n",
       "    <tr>\n",
       "      <th>2</th>\n",
       "      <td>Ryan</td>\n",
       "      <td>NaN</td>\n",
       "      <td>NaN</td>\n",
       "      <td>NaN</td>\n",
       "    </tr>\n",
       "    <tr>\n",
       "      <th>15</th>\n",
       "      <td>Victoria</td>\n",
       "      <td>2.0</td>\n",
       "      <td>5.0</td>\n",
       "      <td>2.0</td>\n",
       "    </tr>\n",
       "  </tbody>\n",
       "</table>\n",
       "</div>"
      ],
      "text/plain": [
       "        name  math_grade  english_grade  programming_grade\n",
       "4       Anna         5.0            NaN                5.0\n",
       "10    Ashley         NaN            NaN                NaN\n",
       "1      David         NaN            NaN                NaN\n",
       "5      Hanna         5.0            5.0                5.0\n",
       "12     Harry         5.0            3.0                5.0\n",
       "8       Jack         NaN            5.0                NaN\n",
       "9     Jackie         3.0            3.0                3.0\n",
       "6        Joe         1.0            NaN                3.0\n",
       "3        Kim         1.0            4.0                NaN\n",
       "7        Lee         3.0            4.0                2.0\n",
       "0       Lena         2.0            3.0                5.0\n",
       "11    Marcus         4.0            NaN                4.0\n",
       "13    Nicole         4.0            NaN                NaN\n",
       "14   Phillip         NaN            3.0                3.0\n",
       "2       Ryan         NaN            NaN                NaN\n",
       "15  Victoria         2.0            5.0                2.0"
      ]
     },
     "execution_count": 154,
     "metadata": {},
     "output_type": "execute_result"
    }
   ],
   "source": [
    "students"
   ]
  },
  {
   "cell_type": "markdown",
   "id": "3614db38",
   "metadata": {},
   "source": [
    "## Selecting Data"
   ]
  },
  {
   "cell_type": "code",
   "execution_count": 155,
   "id": "921b31b9",
   "metadata": {},
   "outputs": [],
   "source": [
    "# Importing Pandas. \n",
    "import pandas as pd\n",
    "\n",
    "# Importing the data.\n",
    "students = pd.read_excel(\"students_data.xlsx\", \"Sheet1\")"
   ]
  },
  {
   "cell_type": "code",
   "execution_count": 156,
   "id": "188e05cc",
   "metadata": {},
   "outputs": [
    {
     "data": {
      "text/plain": [
       "0         Lena\n",
       "1        David\n",
       "2         Ryan\n",
       "3          Kim\n",
       "4         Anna\n",
       "5        Hanna\n",
       "6          Joe\n",
       "7          Lee\n",
       "8         Jack\n",
       "9       Jackie\n",
       "10      Ashley\n",
       "11      Marcus\n",
       "12       Harry\n",
       "13      Nicole\n",
       "14     Phillip\n",
       "15    Victoria\n",
       "Name: name, dtype: object"
      ]
     },
     "execution_count": 156,
     "metadata": {},
     "output_type": "execute_result"
    }
   ],
   "source": [
    "# Selecting a single column.\n",
    "students[\"name\"]"
   ]
  },
  {
   "cell_type": "code",
   "execution_count": 157,
   "id": "90388a7c",
   "metadata": {},
   "outputs": [
    {
     "data": {
      "text/html": [
       "<div>\n",
       "<style scoped>\n",
       "    .dataframe tbody tr th:only-of-type {\n",
       "        vertical-align: middle;\n",
       "    }\n",
       "\n",
       "    .dataframe tbody tr th {\n",
       "        vertical-align: top;\n",
       "    }\n",
       "\n",
       "    .dataframe thead th {\n",
       "        text-align: right;\n",
       "    }\n",
       "</style>\n",
       "<table border=\"1\" class=\"dataframe\">\n",
       "  <thead>\n",
       "    <tr style=\"text-align: right;\">\n",
       "      <th></th>\n",
       "      <th>name</th>\n",
       "      <th>math_grade</th>\n",
       "      <th>english_grade</th>\n",
       "      <th>programming_grade</th>\n",
       "    </tr>\n",
       "  </thead>\n",
       "  <tbody>\n",
       "    <tr>\n",
       "      <th>0</th>\n",
       "      <td>Lena</td>\n",
       "      <td>2.0</td>\n",
       "      <td>3.0</td>\n",
       "      <td>5.0</td>\n",
       "    </tr>\n",
       "    <tr>\n",
       "      <th>1</th>\n",
       "      <td>David</td>\n",
       "      <td>NaN</td>\n",
       "      <td>NaN</td>\n",
       "      <td>NaN</td>\n",
       "    </tr>\n",
       "    <tr>\n",
       "      <th>2</th>\n",
       "      <td>Ryan</td>\n",
       "      <td>NaN</td>\n",
       "      <td>NaN</td>\n",
       "      <td>NaN</td>\n",
       "    </tr>\n",
       "  </tbody>\n",
       "</table>\n",
       "</div>"
      ],
      "text/plain": [
       "    name  math_grade  english_grade  programming_grade\n",
       "0   Lena         2.0            3.0                5.0\n",
       "1  David         NaN            NaN                NaN\n",
       "2   Ryan         NaN            NaN                NaN"
      ]
     },
     "execution_count": 157,
     "metadata": {},
     "output_type": "execute_result"
    }
   ],
   "source": [
    "# Selecting first three rows. \n",
    "students[0:3]"
   ]
  },
  {
   "cell_type": "code",
   "execution_count": 158,
   "id": "85cb1ea7",
   "metadata": {},
   "outputs": [
    {
     "data": {
      "text/plain": [
       "2     Ryan\n",
       "3      Kim\n",
       "4     Anna\n",
       "5    Hanna\n",
       "Name: name, dtype: object"
      ]
     },
     "execution_count": 158,
     "metadata": {},
     "output_type": "execute_result"
    }
   ],
   "source": [
    "# loc: Access a group of rows and columns by label(s).\n",
    "# Notice that when using loc, contrary to usual python slices, both the start and stop are included.  \n",
    "students.loc[2:5, \"name\"]"
   ]
  },
  {
   "cell_type": "code",
   "execution_count": 159,
   "id": "8ead52f6",
   "metadata": {},
   "outputs": [
    {
     "name": "stdout",
     "output_type": "stream",
     "text": [
      "2    Ryan\n",
      "3     Kim\n",
      "4    Anna\n",
      "Name: name, dtype: object\n"
     ]
    }
   ],
   "source": [
    "# iloc: Selecting data by position (integer-based indexing).\n",
    "print(students.iloc[2:5, 0])"
   ]
  },
  {
   "cell_type": "code",
   "execution_count": 160,
   "id": "44ebf2a6",
   "metadata": {},
   "outputs": [
    {
     "name": "stdout",
     "output_type": "stream",
     "text": [
      "David\n",
      "David\n",
      "\n",
      "David\n",
      "David\n"
     ]
    }
   ],
   "source": [
    "# iat is used to access a single value by integer position. Can be done with iloc aswell but is not as fast. \n",
    "print(students.iat[1, 0])\n",
    "print(students.iloc[1, 0])\n",
    "print() \n",
    "\n",
    "# To access a single value by label we can use \"at\" instead of \"iat\". Can be done with loc aswell but is not as fast. \n",
    "print(students.at[1, \"name\"])\n",
    "print(students.loc[1, \"name\"])"
   ]
  },
  {
   "cell_type": "markdown",
   "id": "153ae2d9",
   "metadata": {},
   "source": [
    "## Missing Data\n",
    "In Pandas missing data can easily be handled."
   ]
  },
  {
   "cell_type": "code",
   "execution_count": 161,
   "id": "9736aaa8",
   "metadata": {},
   "outputs": [],
   "source": [
    "# Importing Pandas. \n",
    "import pandas as pd\n",
    "\n",
    "# Importing the data.\n",
    "students = pd.read_excel(\"students_data.xlsx\", \"Sheet1\")"
   ]
  },
  {
   "cell_type": "code",
   "execution_count": 162,
   "id": "857ee0f1",
   "metadata": {},
   "outputs": [
    {
     "data": {
      "text/html": [
       "<div>\n",
       "<style scoped>\n",
       "    .dataframe tbody tr th:only-of-type {\n",
       "        vertical-align: middle;\n",
       "    }\n",
       "\n",
       "    .dataframe tbody tr th {\n",
       "        vertical-align: top;\n",
       "    }\n",
       "\n",
       "    .dataframe thead th {\n",
       "        text-align: right;\n",
       "    }\n",
       "</style>\n",
       "<table border=\"1\" class=\"dataframe\">\n",
       "  <thead>\n",
       "    <tr style=\"text-align: right;\">\n",
       "      <th></th>\n",
       "      <th>name</th>\n",
       "      <th>math_grade</th>\n",
       "      <th>english_grade</th>\n",
       "      <th>programming_grade</th>\n",
       "    </tr>\n",
       "  </thead>\n",
       "  <tbody>\n",
       "    <tr>\n",
       "      <th>0</th>\n",
       "      <td>Lena</td>\n",
       "      <td>2.0</td>\n",
       "      <td>3.0</td>\n",
       "      <td>5.0</td>\n",
       "    </tr>\n",
       "    <tr>\n",
       "      <th>1</th>\n",
       "      <td>David</td>\n",
       "      <td>NaN</td>\n",
       "      <td>NaN</td>\n",
       "      <td>NaN</td>\n",
       "    </tr>\n",
       "    <tr>\n",
       "      <th>2</th>\n",
       "      <td>Ryan</td>\n",
       "      <td>NaN</td>\n",
       "      <td>NaN</td>\n",
       "      <td>NaN</td>\n",
       "    </tr>\n",
       "    <tr>\n",
       "      <th>3</th>\n",
       "      <td>Kim</td>\n",
       "      <td>1.0</td>\n",
       "      <td>4.0</td>\n",
       "      <td>NaN</td>\n",
       "    </tr>\n",
       "    <tr>\n",
       "      <th>4</th>\n",
       "      <td>Anna</td>\n",
       "      <td>5.0</td>\n",
       "      <td>NaN</td>\n",
       "      <td>5.0</td>\n",
       "    </tr>\n",
       "    <tr>\n",
       "      <th>5</th>\n",
       "      <td>Hanna</td>\n",
       "      <td>5.0</td>\n",
       "      <td>5.0</td>\n",
       "      <td>5.0</td>\n",
       "    </tr>\n",
       "    <tr>\n",
       "      <th>6</th>\n",
       "      <td>Joe</td>\n",
       "      <td>1.0</td>\n",
       "      <td>NaN</td>\n",
       "      <td>3.0</td>\n",
       "    </tr>\n",
       "    <tr>\n",
       "      <th>7</th>\n",
       "      <td>Lee</td>\n",
       "      <td>3.0</td>\n",
       "      <td>4.0</td>\n",
       "      <td>2.0</td>\n",
       "    </tr>\n",
       "    <tr>\n",
       "      <th>8</th>\n",
       "      <td>Jack</td>\n",
       "      <td>NaN</td>\n",
       "      <td>5.0</td>\n",
       "      <td>NaN</td>\n",
       "    </tr>\n",
       "    <tr>\n",
       "      <th>9</th>\n",
       "      <td>Jackie</td>\n",
       "      <td>3.0</td>\n",
       "      <td>3.0</td>\n",
       "      <td>3.0</td>\n",
       "    </tr>\n",
       "    <tr>\n",
       "      <th>10</th>\n",
       "      <td>Ashley</td>\n",
       "      <td>NaN</td>\n",
       "      <td>NaN</td>\n",
       "      <td>NaN</td>\n",
       "    </tr>\n",
       "    <tr>\n",
       "      <th>11</th>\n",
       "      <td>Marcus</td>\n",
       "      <td>4.0</td>\n",
       "      <td>NaN</td>\n",
       "      <td>4.0</td>\n",
       "    </tr>\n",
       "    <tr>\n",
       "      <th>12</th>\n",
       "      <td>Harry</td>\n",
       "      <td>5.0</td>\n",
       "      <td>3.0</td>\n",
       "      <td>5.0</td>\n",
       "    </tr>\n",
       "    <tr>\n",
       "      <th>13</th>\n",
       "      <td>Nicole</td>\n",
       "      <td>4.0</td>\n",
       "      <td>NaN</td>\n",
       "      <td>NaN</td>\n",
       "    </tr>\n",
       "    <tr>\n",
       "      <th>14</th>\n",
       "      <td>Phillip</td>\n",
       "      <td>NaN</td>\n",
       "      <td>3.0</td>\n",
       "      <td>3.0</td>\n",
       "    </tr>\n",
       "    <tr>\n",
       "      <th>15</th>\n",
       "      <td>Victoria</td>\n",
       "      <td>2.0</td>\n",
       "      <td>5.0</td>\n",
       "      <td>2.0</td>\n",
       "    </tr>\n",
       "  </tbody>\n",
       "</table>\n",
       "</div>"
      ],
      "text/plain": [
       "        name  math_grade  english_grade  programming_grade\n",
       "0       Lena         2.0            3.0                5.0\n",
       "1      David         NaN            NaN                NaN\n",
       "2       Ryan         NaN            NaN                NaN\n",
       "3        Kim         1.0            4.0                NaN\n",
       "4       Anna         5.0            NaN                5.0\n",
       "5      Hanna         5.0            5.0                5.0\n",
       "6        Joe         1.0            NaN                3.0\n",
       "7        Lee         3.0            4.0                2.0\n",
       "8       Jack         NaN            5.0                NaN\n",
       "9     Jackie         3.0            3.0                3.0\n",
       "10    Ashley         NaN            NaN                NaN\n",
       "11    Marcus         4.0            NaN                4.0\n",
       "12     Harry         5.0            3.0                5.0\n",
       "13    Nicole         4.0            NaN                NaN\n",
       "14   Phillip         NaN            3.0                3.0\n",
       "15  Victoria         2.0            5.0                2.0"
      ]
     },
     "execution_count": 162,
     "metadata": {},
     "output_type": "execute_result"
    }
   ],
   "source": [
    "students"
   ]
  },
  {
   "cell_type": "code",
   "execution_count": 163,
   "id": "7fd7140e",
   "metadata": {},
   "outputs": [
    {
     "data": {
      "text/html": [
       "<div>\n",
       "<style scoped>\n",
       "    .dataframe tbody tr th:only-of-type {\n",
       "        vertical-align: middle;\n",
       "    }\n",
       "\n",
       "    .dataframe tbody tr th {\n",
       "        vertical-align: top;\n",
       "    }\n",
       "\n",
       "    .dataframe thead th {\n",
       "        text-align: right;\n",
       "    }\n",
       "</style>\n",
       "<table border=\"1\" class=\"dataframe\">\n",
       "  <thead>\n",
       "    <tr style=\"text-align: right;\">\n",
       "      <th></th>\n",
       "      <th>name</th>\n",
       "      <th>math_grade</th>\n",
       "      <th>english_grade</th>\n",
       "      <th>programming_grade</th>\n",
       "    </tr>\n",
       "  </thead>\n",
       "  <tbody>\n",
       "    <tr>\n",
       "      <th>0</th>\n",
       "      <td>Lena</td>\n",
       "      <td>2.0</td>\n",
       "      <td>3.0</td>\n",
       "      <td>5.0</td>\n",
       "    </tr>\n",
       "    <tr>\n",
       "      <th>5</th>\n",
       "      <td>Hanna</td>\n",
       "      <td>5.0</td>\n",
       "      <td>5.0</td>\n",
       "      <td>5.0</td>\n",
       "    </tr>\n",
       "    <tr>\n",
       "      <th>7</th>\n",
       "      <td>Lee</td>\n",
       "      <td>3.0</td>\n",
       "      <td>4.0</td>\n",
       "      <td>2.0</td>\n",
       "    </tr>\n",
       "    <tr>\n",
       "      <th>9</th>\n",
       "      <td>Jackie</td>\n",
       "      <td>3.0</td>\n",
       "      <td>3.0</td>\n",
       "      <td>3.0</td>\n",
       "    </tr>\n",
       "    <tr>\n",
       "      <th>12</th>\n",
       "      <td>Harry</td>\n",
       "      <td>5.0</td>\n",
       "      <td>3.0</td>\n",
       "      <td>5.0</td>\n",
       "    </tr>\n",
       "    <tr>\n",
       "      <th>15</th>\n",
       "      <td>Victoria</td>\n",
       "      <td>2.0</td>\n",
       "      <td>5.0</td>\n",
       "      <td>2.0</td>\n",
       "    </tr>\n",
       "  </tbody>\n",
       "</table>\n",
       "</div>"
      ],
      "text/plain": [
       "        name  math_grade  english_grade  programming_grade\n",
       "0       Lena         2.0            3.0                5.0\n",
       "5      Hanna         5.0            5.0                5.0\n",
       "7        Lee         3.0            4.0                2.0\n",
       "9     Jackie         3.0            3.0                3.0\n",
       "12     Harry         5.0            3.0                5.0\n",
       "15  Victoria         2.0            5.0                2.0"
      ]
     },
     "execution_count": 163,
     "metadata": {},
     "output_type": "execute_result"
    }
   ],
   "source": [
    "# Drop rows containing missing values.\n",
    "students.dropna()\n",
    "\n",
    "# If you would like to drop the missing rows in the data \"inplace\", use inplace = True."
   ]
  },
  {
   "cell_type": "code",
   "execution_count": 164,
   "id": "cc4c8104",
   "metadata": {},
   "outputs": [
    {
     "data": {
      "text/plain": [
       "math_grade           3.181818\n",
       "english_grade        3.888889\n",
       "programming_grade    3.700000\n",
       "dtype: float64"
      ]
     },
     "execution_count": 164,
     "metadata": {},
     "output_type": "execute_result"
    }
   ],
   "source": [
    "students.mean(numeric_only = True)"
   ]
  },
  {
   "cell_type": "code",
   "execution_count": 165,
   "id": "ebe29a2d",
   "metadata": {},
   "outputs": [
    {
     "data": {
      "text/html": [
       "<div>\n",
       "<style scoped>\n",
       "    .dataframe tbody tr th:only-of-type {\n",
       "        vertical-align: middle;\n",
       "    }\n",
       "\n",
       "    .dataframe tbody tr th {\n",
       "        vertical-align: top;\n",
       "    }\n",
       "\n",
       "    .dataframe thead th {\n",
       "        text-align: right;\n",
       "    }\n",
       "</style>\n",
       "<table border=\"1\" class=\"dataframe\">\n",
       "  <thead>\n",
       "    <tr style=\"text-align: right;\">\n",
       "      <th></th>\n",
       "      <th>name</th>\n",
       "      <th>math_grade</th>\n",
       "      <th>english_grade</th>\n",
       "      <th>programming_grade</th>\n",
       "    </tr>\n",
       "  </thead>\n",
       "  <tbody>\n",
       "    <tr>\n",
       "      <th>0</th>\n",
       "      <td>Lena</td>\n",
       "      <td>2.000000</td>\n",
       "      <td>3.000000</td>\n",
       "      <td>5.0</td>\n",
       "    </tr>\n",
       "    <tr>\n",
       "      <th>1</th>\n",
       "      <td>David</td>\n",
       "      <td>3.181818</td>\n",
       "      <td>3.888889</td>\n",
       "      <td>3.7</td>\n",
       "    </tr>\n",
       "    <tr>\n",
       "      <th>2</th>\n",
       "      <td>Ryan</td>\n",
       "      <td>3.181818</td>\n",
       "      <td>3.888889</td>\n",
       "      <td>3.7</td>\n",
       "    </tr>\n",
       "    <tr>\n",
       "      <th>3</th>\n",
       "      <td>Kim</td>\n",
       "      <td>1.000000</td>\n",
       "      <td>4.000000</td>\n",
       "      <td>3.7</td>\n",
       "    </tr>\n",
       "    <tr>\n",
       "      <th>4</th>\n",
       "      <td>Anna</td>\n",
       "      <td>5.000000</td>\n",
       "      <td>3.888889</td>\n",
       "      <td>5.0</td>\n",
       "    </tr>\n",
       "    <tr>\n",
       "      <th>5</th>\n",
       "      <td>Hanna</td>\n",
       "      <td>5.000000</td>\n",
       "      <td>5.000000</td>\n",
       "      <td>5.0</td>\n",
       "    </tr>\n",
       "    <tr>\n",
       "      <th>6</th>\n",
       "      <td>Joe</td>\n",
       "      <td>1.000000</td>\n",
       "      <td>3.888889</td>\n",
       "      <td>3.0</td>\n",
       "    </tr>\n",
       "    <tr>\n",
       "      <th>7</th>\n",
       "      <td>Lee</td>\n",
       "      <td>3.000000</td>\n",
       "      <td>4.000000</td>\n",
       "      <td>2.0</td>\n",
       "    </tr>\n",
       "    <tr>\n",
       "      <th>8</th>\n",
       "      <td>Jack</td>\n",
       "      <td>3.181818</td>\n",
       "      <td>5.000000</td>\n",
       "      <td>3.7</td>\n",
       "    </tr>\n",
       "    <tr>\n",
       "      <th>9</th>\n",
       "      <td>Jackie</td>\n",
       "      <td>3.000000</td>\n",
       "      <td>3.000000</td>\n",
       "      <td>3.0</td>\n",
       "    </tr>\n",
       "    <tr>\n",
       "      <th>10</th>\n",
       "      <td>Ashley</td>\n",
       "      <td>3.181818</td>\n",
       "      <td>3.888889</td>\n",
       "      <td>3.7</td>\n",
       "    </tr>\n",
       "    <tr>\n",
       "      <th>11</th>\n",
       "      <td>Marcus</td>\n",
       "      <td>4.000000</td>\n",
       "      <td>3.888889</td>\n",
       "      <td>4.0</td>\n",
       "    </tr>\n",
       "    <tr>\n",
       "      <th>12</th>\n",
       "      <td>Harry</td>\n",
       "      <td>5.000000</td>\n",
       "      <td>3.000000</td>\n",
       "      <td>5.0</td>\n",
       "    </tr>\n",
       "    <tr>\n",
       "      <th>13</th>\n",
       "      <td>Nicole</td>\n",
       "      <td>4.000000</td>\n",
       "      <td>3.888889</td>\n",
       "      <td>3.7</td>\n",
       "    </tr>\n",
       "    <tr>\n",
       "      <th>14</th>\n",
       "      <td>Phillip</td>\n",
       "      <td>3.181818</td>\n",
       "      <td>3.000000</td>\n",
       "      <td>3.0</td>\n",
       "    </tr>\n",
       "    <tr>\n",
       "      <th>15</th>\n",
       "      <td>Victoria</td>\n",
       "      <td>2.000000</td>\n",
       "      <td>5.000000</td>\n",
       "      <td>2.0</td>\n",
       "    </tr>\n",
       "  </tbody>\n",
       "</table>\n",
       "</div>"
      ],
      "text/plain": [
       "        name  math_grade  english_grade  programming_grade\n",
       "0       Lena    2.000000       3.000000                5.0\n",
       "1      David    3.181818       3.888889                3.7\n",
       "2       Ryan    3.181818       3.888889                3.7\n",
       "3        Kim    1.000000       4.000000                3.7\n",
       "4       Anna    5.000000       3.888889                5.0\n",
       "5      Hanna    5.000000       5.000000                5.0\n",
       "6        Joe    1.000000       3.888889                3.0\n",
       "7        Lee    3.000000       4.000000                2.0\n",
       "8       Jack    3.181818       5.000000                3.7\n",
       "9     Jackie    3.000000       3.000000                3.0\n",
       "10    Ashley    3.181818       3.888889                3.7\n",
       "11    Marcus    4.000000       3.888889                4.0\n",
       "12     Harry    5.000000       3.000000                5.0\n",
       "13    Nicole    4.000000       3.888889                3.7\n",
       "14   Phillip    3.181818       3.000000                3.0\n",
       "15  Victoria    2.000000       5.000000                2.0"
      ]
     },
     "execution_count": 165,
     "metadata": {},
     "output_type": "execute_result"
    }
   ],
   "source": [
    "# Fill the missing values with mean of the columns.\n",
    "students.fillna(students.mean(numeric_only = True))\n",
    "\n",
    "# If you would like to drop the missing rows in the data \"inplace\", use inplace = True."
   ]
  },
  {
   "cell_type": "markdown",
   "id": "608acedc",
   "metadata": {},
   "source": [
    "## Plotting Data\n",
    "We can easily create a plot (histogram in this example) from a dataframe through Pandas which behind the hood uses Matplotlib by default. "
   ]
  },
  {
   "cell_type": "code",
   "execution_count": 166,
   "id": "94e77992",
   "metadata": {},
   "outputs": [],
   "source": [
    "# Importing Pandas. \n",
    "import pandas as pd\n",
    "\n",
    "# Importing the data.\n",
    "students = pd.read_excel(\"students_data.xlsx\", \"Sheet1\")"
   ]
  },
  {
   "cell_type": "code",
   "execution_count": 167,
   "id": "6a1f42b6",
   "metadata": {},
   "outputs": [
    {
     "data": {
      "text/plain": [
       "array([[<AxesSubplot:title={'center':'math_grade'}>,\n",
       "        <AxesSubplot:title={'center':'english_grade'}>],\n",
       "       [<AxesSubplot:title={'center':'programming_grade'}>,\n",
       "        <AxesSubplot:>]], dtype=object)"
      ]
     },
     "execution_count": 167,
     "metadata": {},
     "output_type": "execute_result"
    },
    {
     "data": {
      "image/png": "[encoded data removed]",
      "text/plain": [
       "<Figure size 504x504 with 4 Axes>"
      ]
     },
     "metadata": {
      "needs_background": "light"
     },
     "output_type": "display_data"
    }
   ],
   "source": [
    "# Plotting one histogram for each numeric column in our dataframe.\n",
    "students.hist(figsize = (7,7))"
   ]
  },
  {
   "cell_type": "markdown",
   "id": "0b080b23",
   "metadata": {},
   "source": [
    "# Learn More About Pandas\n",
    "Check the User Guide at the website of Pandas:\n",
    "https://pandas.pydata.org/docs/index.html"
   ]
  }
 ],
 "metadata": {
  "kernelspec": {
   "display_name": "Python 3 (ipykernel)",
   "language": "python",
   "name": "python3"
  },
  "language_info": {
   "codemirror_mode": {
    "name": "ipython",
    "version": 3
   },
   "file_extension": ".py",
   "mimetype": "text/x-python",
   "name": "python",
   "nbconvert_exporter": "python",
   "pygments_lexer": "ipython3",
   "version": "3.8.0"
  }
 },
 "nbformat": 4,
 "nbformat_minor": 5
}
